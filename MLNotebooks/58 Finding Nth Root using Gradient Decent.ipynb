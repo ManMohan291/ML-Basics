{
 "cells": [
  {
   "cell_type": "code",
   "execution_count": 1,
   "metadata": {},
   "outputs": [],
   "source": [
    "import matplotlib.pyplot as plt\n",
    "import numpy as np"
   ]
  },
  {
   "cell_type": "markdown",
   "metadata": {},
   "source": [
    "# Square Root\n",
    "Find sqare root of 10 =$\\displaystyle 10^{\\frac {1}{2}}$"
   ]
  },
  {
   "cell_type": "code",
   "execution_count": 4,
   "metadata": {},
   "outputs": [
    {
     "name": "stdout",
     "output_type": "stream",
     "text": [
      "x=       10.00000\n"
     ]
    },
    {
     "data": {
      "image/png": "[encoded data removed]",
      "text/plain": [
       "<Figure size 432x288 with 1 Axes>"
      ]
     },
     "metadata": {
      "needs_background": "light"
     },
     "output_type": "display_data"
    }
   ],
   "source": [
    "#Init\n",
    "learningRate=0.001\n",
    "\n",
    "w=7\n",
    "########################\n",
    "hx=w**2  #Hypothesis\n",
    "X=[]  #No input\n",
    "Y=100 #Actual output\n",
    "#####################\n",
    "costs=[]\n",
    "for i in range(1000): \n",
    "    #Forward\n",
    "    yhat=w**2\n",
    "    \n",
    "    #Cost\n",
    "    cost=(yhat-Y)**2\n",
    "    \n",
    "    #Back\n",
    "    dw=2*(yhat-Y) *(2*w)\n",
    "    \n",
    "    #Update\n",
    "    w=w-0.001*dw    \n",
    "    costs.append(cost)\n",
    "plt.plot(costs)\n",
    "print(\"x=%15.5f\" % w)"
   ]
  },
  {
   "cell_type": "markdown",
   "metadata": {},
   "source": [
    "# One Fifth Root\n",
    "Find fifth root of 32= $\\displaystyle 32^{\\frac {1}{5}}$"
   ]
  },
  {
   "cell_type": "code",
   "execution_count": 5,
   "metadata": {},
   "outputs": [
    {
     "name": "stdout",
     "output_type": "stream",
     "text": [
      "x=        2.00000\n"
     ]
    },
    {
     "data": {
      "image/png": "[encoded data removed]",
      "text/plain": [
       "<Figure size 432x288 with 1 Axes>"
      ]
     },
     "metadata": {
      "needs_background": "light"
     },
     "output_type": "display_data"
    }
   ],
   "source": [
    "w=1\n",
    "hx=w**5  #Hypothesis\n",
    "X=[]  #No input\n",
    "Y=32 #Actual output\n",
    "\n",
    "\n",
    "learningRate=0.000001\n",
    "#Init\n",
    "w=4\n",
    "\n",
    "costs=[]\n",
    "for i in range(1200): \n",
    "    #Forward\n",
    "    yhat=w**5\n",
    "    \n",
    "    #Cost\n",
    "    cost=(yhat-Y)**2\n",
    "    \n",
    "    #Back\n",
    "    dw=2*(yhat-Y) *(5*w**4)\n",
    "    \n",
    "    #Update\n",
    "    w=w-learningRate*dw    \n",
    "    costs.append(cost)\n",
    "plt.plot(costs)\n",
    "print(\"x=%15.5f\" % w)"
   ]
  },
  {
   "cell_type": "code",
   "execution_count": 76,
   "metadata": {},
   "outputs": [],
   "source": [
    "import tensorflow as tf\n",
    "import numpy as np\n",
    "import matplotlib.pyplot as plt\n",
    "from tensorflow.python.framework import ops\n",
    "#tf.enable_eager_execution()"
   ]
  },
  {
   "cell_type": "code",
   "execution_count": 77,
   "metadata": {},
   "outputs": [],
   "source": [
    "def create_placeholders():\n",
    "    X = tf.placeholder(dtype=tf.float32, shape=[1,1], name=\"X\")\n",
    "    Y = tf.placeholder(dtype=tf.float32, shape=[1,1], name=\"Y\")\n",
    "    return X,Y"
   ]
  },
  {
   "cell_type": "code",
   "execution_count": 78,
   "metadata": {},
   "outputs": [],
   "source": [
    "def initialize_parameters():  \n",
    "    tf.set_random_seed(1)                   \n",
    "    W = tf.get_variable(\"W\",[1,1],initializer=tf.initializers.random_normal())\n",
    "    parameters = {\"W\": W}\n",
    "    return parameters"
   ]
  },
  {
   "cell_type": "code",
   "execution_count": 79,
   "metadata": {},
   "outputs": [],
   "source": [
    "def forward_propagation(X, parameters):\n",
    "    W = parameters['W']    \n",
    "    Z = tf.math.pow(W, 2)  \n",
    "    return Z"
   ]
  },
  {
   "cell_type": "code",
   "execution_count": 80,
   "metadata": {},
   "outputs": [],
   "source": [
    "def compute_cost(Z, Y):\n",
    "    CV   = tf.math.pow((Z-Y),2) \n",
    "    cost = tf.reduce_mean(CV)\n",
    "    return cost"
   ]
  },
  {
   "cell_type": "code",
   "execution_count": 81,
   "metadata": {},
   "outputs": [],
   "source": [
    "def backward_propagation(cost, learning_rate):\n",
    "    optimizer = tf.train.GradientDescentOptimizer(learning_rate=learning_rate).minimize(cost)\n",
    "    return optimizer"
   ]
  },
  {
   "cell_type": "code",
   "execution_count": 109,
   "metadata": {},
   "outputs": [],
   "source": [
    "def model(X_train, Y_train, learning_rate, iterations):\n",
    "    ops.reset_default_graph() \n",
    "    costs = []                                        # To keep track of the cost\n",
    "\n",
    "    X, Y = create_placeholders()\n",
    "\n",
    "    # Initialize parameters\n",
    "    parameters = initialize_parameters()\n",
    "\n",
    "    # Forward propagation: Build the forward propagation in the tensorflow graph\n",
    "    Z = forward_propagation(X, parameters)\n",
    "\n",
    "    # Cost function: Add cost function to tensorflow graph\n",
    "    cost = compute_cost(Z, Y)\n",
    "\n",
    "    # Backpropagation: Define the tensorflow optimizer. Use an AdamOptimizer.\n",
    "    op = backward_propagation(cost,learning_rate=lr)\n",
    "\n",
    "    with tf.Session() as sess:\n",
    "        sess.run(tf.global_variables_initializer()) # Initialize all the variables\n",
    "        for i in range(iterations):       \n",
    "            _ , c = sess.run([op, cost],feed_dict={X: X_train, Y: Y_train})                \n",
    "\n",
    "            costs.append(c)\n",
    "        parameters = sess.run(parameters)  #Evaluate Values  \n",
    "\n",
    "    return parameters,costs"
   ]
  },
  {
   "cell_type": "code",
   "execution_count": 116,
   "metadata": {},
   "outputs": [],
   "source": [
    "def FindSQRT(SqRootOf,printModel=False):\n",
    "    lr=0.001\n",
    "    parameters,costs =model([[0]],[[SqRootOf]],0.001,1200)\n",
    "    SQRTValue=np.round(np.squeeze(parameters[\"W\"]),2)\n",
    "    \n",
    "    if(printModel==True):\n",
    "        plt.plot(np.squeeze(costs))\n",
    "        plt.ylabel('cost')\n",
    "        plt.xlabel('iterations')\n",
    "        plt.title(\"Learning rate =\" + str(lr))\n",
    "        plt.show()\n",
    "\n",
    "    return SQRTValue\n",
    "    "
   ]
  },
  {
   "cell_type": "code",
   "execution_count": 117,
   "metadata": {},
   "outputs": [
    {
     "data": {
      "image/png": "[encoded data removed]",
      "text/plain": [
       "<Figure size 432x288 with 1 Axes>"
      ]
     },
     "metadata": {
      "needs_background": "light"
     },
     "output_type": "display_data"
    },
    {
     "name": "stdout",
     "output_type": "stream",
     "text": [
      "9.43\n"
     ]
    }
   ],
   "source": [
    "print(FindSQRT(89,True))"
   ]
  },
  {
   "cell_type": "code",
   "execution_count": null,
   "metadata": {},
   "outputs": [],
   "source": []
  }
 ],
 "metadata": {
  "kernelspec": {
   "display_name": "Python 3",
   "language": "python",
   "name": "python3"
  },
  "language_info": {
   "codemirror_mode": {
    "name": "ipython",
    "version": 3
   },
   "file_extension": ".py",
   "mimetype": "text/x-python",
   "name": "python",
   "nbconvert_exporter": "python",
   "pygments_lexer": "ipython3",
   "version": "3.7.3"
  }
 },
 "nbformat": 4,
 "nbformat_minor": 1
}
