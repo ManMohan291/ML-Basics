{
 "cells": [
  {
   "cell_type": "markdown",
   "metadata": {
    "_uuid": "dd38a0fcd2b4c6d3e6b8752949cf3d6f0228d618"
   },
   "source": [
    "# Tensor Flow Basics - Halley Method for Finding upto 4th Root\n",
    "\n",
    "<h1>Halley's Method</h1>\n",
    "\n",
    "\n",
    "\n",
    "Use TensorFlow to find the roots of a fourth-degree polynomial using [Halley's Method](https://en.wikipedia.org/wiki/Halley%27s_method).  The five coefficients (i.e. $a_0$ to $a_4$) of \n",
    "<p>\n",
    "$f(x) = a_0 + a_1 x + a_2 x^2 + a_3 x^3 + a_4 x^4$\n",
    "<p>\n",
    "will be fed into the program, as will the initial guess $x_0$. Your program will start from that initial guess and then iterate one step using the formula:\n",
    "<img src=\"https://wikimedia.org/api/rest_v1/media/math/render/svg/142614c0378a1d61cb623c1352bf85b6b7bc4397\" />\n",
    "<p>\n",
    "If you got the above easily, try iterating indefinitely until the change between $x_n$ and $x_{n+1}$ is less than some specified tolerance."
   ]
  },
  {
   "cell_type": "code",
   "execution_count": 1,
   "metadata": {
    "_uuid": "32f0a0e37df008734836a650eb5d9355536d6521"
   },
   "outputs": [],
   "source": [
    "import tensorflow as tf\n",
    "import numpy as np\n"
   ]
  },
  {
   "cell_type": "markdown",
   "metadata": {
    "_uuid": "a112be89942d745d2ea2f794c08309164d9bfbb0"
   },
   "source": [
    "<h2>$f(x)$</h2>"
   ]
  },
  {
   "cell_type": "code",
   "execution_count": 2,
   "metadata": {
    "_uuid": "6187460f237cd73479a0f1244075c1e232951a39"
   },
   "outputs": [],
   "source": [
    "def fx(coeffs,x):\n",
    "    a0=coeffs[0]\n",
    "    a1=coeffs[1]\n",
    "    a2=coeffs[2]\n",
    "    a3=coeffs[3]\n",
    "    a4=coeffs[4]\n",
    "    result=(a0  +tf.multiply(a1,tf.math.pow(x,1))\n",
    "                +tf.multiply(a2,tf.math.pow(x,2))\n",
    "                +tf.multiply(a3,tf.math.pow(x,3))\n",
    "                +tf.multiply(a4,tf.math.pow(x,4))\n",
    "             )\n",
    "    return result"
   ]
  },
  {
   "cell_type": "markdown",
   "metadata": {
    "_uuid": "cb27441cfd319741bf1652e7e67f00e017155327"
   },
   "source": [
    "<h2>$f'(x)$</h2>"
   ]
  },
  {
   "cell_type": "code",
   "execution_count": 3,
   "metadata": {
    "_uuid": "d7211d76cb9028717b718a9ab37b6b13aeb895ce"
   },
   "outputs": [],
   "source": [
    "\n",
    "\n",
    "def fxd(coeffs,x):\n",
    "    a0=coeffs[0]\n",
    "    a1=coeffs[1]\n",
    "    a2=coeffs[2]\n",
    "    a3=coeffs[3]\n",
    "    a4=coeffs[4]\n",
    "    \n",
    "    result=(a1  +2.0*tf.multiply(a2,tf.math.pow(x,1))\n",
    "                +3.0*tf.multiply(a3,tf.math.pow(x,2))\n",
    "                +4.0*tf.multiply(a4,tf.math.pow(x,3))\n",
    "             )\n",
    "    return result\n",
    "    \n",
    "  \n",
    "    \n",
    "    "
   ]
  },
  {
   "cell_type": "markdown",
   "metadata": {
    "_uuid": "2536e170ca8f767fff9ef6920f4c4364162cb200"
   },
   "source": [
    "<h2>$f''(x)$</h2>"
   ]
  },
  {
   "cell_type": "code",
   "execution_count": 4,
   "metadata": {
    "_uuid": "2679bbf384b1c625b234ce3d775ed2df3c5f126b"
   },
   "outputs": [],
   "source": [
    "def fxdd(coeffs,x):\n",
    "    a0=coeffs[0]\n",
    "    a1=coeffs[1]\n",
    "    a2=coeffs[2]\n",
    "    a3=coeffs[3]\n",
    "    a4=coeffs[4]\n",
    "    \n",
    "    result=(2.0*a2\n",
    "                +6.0*tf.multiply(a3,tf.math.pow(x,1))\n",
    "                +12.0*tf.multiply(a4,tf.math.pow(x,2))\n",
    "             )\n",
    "    return result\n"
   ]
  },
  {
   "cell_type": "markdown",
   "metadata": {
    "_uuid": "e58606e05e7749ff268921b61442a70997a0f599"
   },
   "source": [
    "<h2>$h(x)$</h2>"
   ]
  },
  {
   "cell_type": "code",
   "execution_count": 5,
   "metadata": {
    "_uuid": "26305007f8d9fd06b070088029df2519686a51a4"
   },
   "outputs": [],
   "source": [
    "\n",
    "def hx(coeffs,x):\n",
    "    result=x-(\n",
    "                (2.0*fx(coeffs,x)*fxd(coeffs,x))\n",
    "                /\n",
    "                (\n",
    "                    2.0*fxd(coeffs,x)*fxd(coeffs,x)\n",
    "                    -fxd(coeffs,x)*fxdd(coeffs,x)\n",
    "                )\n",
    "            )\n",
    "    return result\n",
    "    "
   ]
  },
  {
   "cell_type": "markdown",
   "metadata": {},
   "source": [
    "# Square Root"
   ]
  },
  {
   "cell_type": "markdown",
   "metadata": {
    "_uuid": "d7b9a63261ea48dc394ad9604ac48fa659d5b993"
   },
   "source": [
    "\n",
    "$f(x) = a_0 + a_1 x + a_2 x^2 + a_3 x^3 + a_4 x^4$\n",
    "<p>\n",
    " Trying to test for 2nd degree equestion\n",
    " $a_0=-2,\n",
    "   a_1=0,\n",
    "   a_2=1 ,\n",
    "   a_3=0,\n",
    "   a_4 =0,\n",
    "   $\n",
    "   <p>\n",
    "$f(x) = -2 +   x^2 $\n",
    "    \n",
    "   "
   ]
  },
  {
   "cell_type": "code",
   "execution_count": 6,
   "metadata": {
    "_uuid": "7ecbfcf5928da946b87b3a088e371e7b6bd6dd51"
   },
   "outputs": [
    {
     "name": "stdout",
     "output_type": "stream",
     "text": [
      "1.3333333333333335\n",
      "1.4666666666666666\n",
      "1.3885057471264368\n",
      "1.429052356098794\n",
      "1.4063460811539255\n",
      "1.4185879281064406\n",
      "1.4118429506305947\n",
      "1.4155165452721188\n",
      "1.413502878802542\n",
      "1.4146028269601003\n",
      "1.4140008399494286\n"
     ]
    }
   ],
   "source": [
    "coeffs = tf.placeholder(dtype=tf.float64, shape=(5,))\n",
    "x = tf.placeholder(dtype=tf.float64)\n",
    "finaloutcome = hx(coeffs, x)\n",
    "with tf.Session() as sess:\n",
    "    a=[-2.0,0.0,1.0,0.0,0.0]\n",
    "    r=sess.run(finaloutcome,feed_dict={coeffs:a,x:2})\n",
    "    print(r)\n",
    "    for i in range(10):\n",
    "        r=sess.run(finaloutcome,feed_dict={coeffs:a,x:r})\n",
    "        print(r)\n"
   ]
  },
  {
   "cell_type": "markdown",
   "metadata": {},
   "source": [
    "# Cube Root"
   ]
  },
  {
   "cell_type": "markdown",
   "metadata": {
    "_uuid": "4c1c2bdfa45d25846e5c8c53626dc6ec33f3e5fd"
   },
   "source": [
    "$f(x) = a_0 + a_1 x + a_2 x^2 + a_3 x^3 + a_4 x^4$\n",
    "<p>\n",
    " Trying to test for 3nd degree equestion\n",
    " $a_0=-27,\n",
    "   a_1=0,\n",
    "   a_2=0 ,\n",
    "   a_3=1,\n",
    "   a_4 =0,\n",
    "   $\n",
    "   <p>\n",
    "$f(x) = -27 +   x^3$"
   ]
  },
  {
   "cell_type": "code",
   "execution_count": 7,
   "metadata": {
    "_uuid": "a2ad7cd40c45cfea22ba9e673b8cf758c9d21a13"
   },
   "outputs": [
    {
     "name": "stdout",
     "output_type": "stream",
     "text": [
      "5.166666666666666\n",
      "3.4491756272401433\n",
      "2.8954035707575336\n",
      "3.061025833660323\n",
      "2.9721854869163282\n",
      "3.014496898868923\n",
      "2.9929078691106494\n",
      "3.003583943367548\n",
      "2.9982176420218636\n",
      "3.000893564029291\n",
      "2.99955381652082\n"
     ]
    }
   ],
   "source": [
    "coeffs = tf.placeholder(dtype=tf.float64, shape=(5,))\n",
    "x = tf.placeholder(dtype=tf.float64)\n",
    "finaloutcome = hx(coeffs, x)\n",
    "with tf.Session() as sess:\n",
    "    a=[-27.0,0.0,0.0,1.0,0.0]\n",
    "    r=sess.run(finaloutcome,feed_dict={coeffs:a,x:2})\n",
    "    print(r)\n",
    "    for i in range(10):\n",
    "        r=sess.run(finaloutcome,feed_dict={coeffs:a,x:r})\n",
    "        print(r)\n"
   ]
  },
  {
   "cell_type": "code",
   "execution_count": null,
   "metadata": {
    "_uuid": "b641c80bee9956ae167469d8ac036efaf9499cc5"
   },
   "outputs": [],
   "source": []
  }
 ],
 "metadata": {
  "kernelspec": {
   "display_name": "Python 3",
   "language": "python",
   "name": "python3"
  },
  "language_info": {
   "codemirror_mode": {
    "name": "ipython",
    "version": 3
   },
   "file_extension": ".py",
   "mimetype": "text/x-python",
   "name": "python",
   "nbconvert_exporter": "python",
   "pygments_lexer": "ipython3",
   "version": "3.7.3"
  }
 },
 "nbformat": 4,
 "nbformat_minor": 1
}
