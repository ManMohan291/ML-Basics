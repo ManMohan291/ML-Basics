{
 "cells": [
  {
   "cell_type": "markdown",
   "metadata": {
    "_uuid": "fbb83ab53f187857890b7bcd2a13603b7586651e"
   },
   "source": [
    "# Linear Regression VS Ridge VS  SVR VS RandomForest  - Using SKLearn\n"
   ]
  },
  {
   "cell_type": "code",
   "execution_count": 26,
   "metadata": {
    "_cell_guid": "b1076dfc-b9ad-4769-8c92-a6c4dae69d19",
    "_uuid": "8f2839f25d086af736a60e9eeb907d3b93b6e0e5"
   },
   "outputs": [],
   "source": [
    "import numpy as np\n",
    "import pandas as pd \n",
    "import matplotlib.pyplot as plt\n",
    "import sklearn.linear_model  as LR\n",
    "import sklearn.svm as SM\n",
    "import sklearn.ensemble as RF\n",
    "\n",
    "import sklearn.metrics as M\n"
   ]
  },
  {
   "cell_type": "markdown",
   "metadata": {
    "_uuid": "48af0c24b890335a0ed6374004138ce723b8448d"
   },
   "source": [
    "<H1>Read Data from CSV"
   ]
  },
  {
   "cell_type": "code",
   "execution_count": 2,
   "metadata": {},
   "outputs": [
    {
     "data": {
      "text/html": [
       "<div>\n",
       "<style scoped>\n",
       "    .dataframe tbody tr th:only-of-type {\n",
       "        vertical-align: middle;\n",
       "    }\n",
       "\n",
       "    .dataframe tbody tr th {\n",
       "        vertical-align: top;\n",
       "    }\n",
       "\n",
       "    .dataframe thead th {\n",
       "        text-align: right;\n",
       "    }\n",
       "</style>\n",
       "<table border=\"1\" class=\"dataframe\">\n",
       "  <thead>\n",
       "    <tr style=\"text-align: right;\">\n",
       "      <th></th>\n",
       "      <th>X</th>\n",
       "      <th>Y</th>\n",
       "    </tr>\n",
       "  </thead>\n",
       "  <tbody>\n",
       "    <tr>\n",
       "      <th>0</th>\n",
       "      <td>-15.936758</td>\n",
       "      <td>2.134311</td>\n",
       "    </tr>\n",
       "    <tr>\n",
       "      <th>1</th>\n",
       "      <td>-29.152979</td>\n",
       "      <td>1.173257</td>\n",
       "    </tr>\n",
       "    <tr>\n",
       "      <th>2</th>\n",
       "      <td>36.189549</td>\n",
       "      <td>34.359109</td>\n",
       "    </tr>\n",
       "    <tr>\n",
       "      <th>3</th>\n",
       "      <td>37.492187</td>\n",
       "      <td>36.837955</td>\n",
       "    </tr>\n",
       "    <tr>\n",
       "      <th>4</th>\n",
       "      <td>-48.058829</td>\n",
       "      <td>2.808965</td>\n",
       "    </tr>\n",
       "  </tbody>\n",
       "</table>\n",
       "</div>"
      ],
      "text/plain": [
       "           X          Y\n",
       "0 -15.936758   2.134311\n",
       "1 -29.152979   1.173257\n",
       "2  36.189549  34.359109\n",
       "3  37.492187  36.837955\n",
       "4 -48.058829   2.808965"
      ]
     },
     "execution_count": 2,
     "metadata": {},
     "output_type": "execute_result"
    }
   ],
   "source": [
    "dfTrain = pd.read_csv('../input/LinearRegressionDS/LinearRegressionTrainingData.csv')   #Training Dataset\n",
    "dfTest = pd.read_csv('../input/LinearRegressionDS/LinearRegressionTestData.csv')   #Test Dataset\n",
    "dfValid = pd.read_csv('../input/LinearRegressionDS/LinearRegressionValidData.csv') #Validation Dataset\n",
    "dfTrain.head()"
   ]
  },
  {
   "cell_type": "markdown",
   "metadata": {},
   "source": [
    "<h5> Visualize Data"
   ]
  },
  {
   "cell_type": "code",
   "execution_count": 3,
   "metadata": {},
   "outputs": [
    {
     "data": {
      "text/plain": [
       "<matplotlib.axes._subplots.AxesSubplot at 0x2d02e5246d8>"
      ]
     },
     "execution_count": 3,
     "metadata": {},
     "output_type": "execute_result"
    },
    {
     "data": {
      "image/png": "[encoded data removed]",
      "text/plain": [
       "<Figure size 432x288 with 1 Axes>"
      ]
     },
     "metadata": {
      "needs_background": "light"
     },
     "output_type": "display_data"
    }
   ],
   "source": [
    "dfTrain.plot(x='X',y='Y',kind='scatter')"
   ]
  },
  {
   "cell_type": "markdown",
   "metadata": {},
   "source": [
    "<h2>Extract Input Feature to <b>X </b>and Label to <b>y</b>"
   ]
  },
  {
   "cell_type": "code",
   "execution_count": 4,
   "metadata": {},
   "outputs": [],
   "source": [
    "def extractFeatures(df):\n",
    "    df_Features=df.iloc[:,0:1]\n",
    "    df_Label=df.iloc[:,1:2]\n",
    "    X=df_Features.values\n",
    "    Y=df_Label.values\n",
    "    return X,Y"
   ]
  },
  {
   "cell_type": "code",
   "execution_count": 5,
   "metadata": {},
   "outputs": [],
   "source": [
    "X,Y=extractFeatures(dfTrain)\n",
    "Xval,Yval=extractFeatures(dfValid)\n",
    "Xtest,Ytest=extractFeatures(dfTest)"
   ]
  },
  {
   "cell_type": "markdown",
   "metadata": {},
   "source": [
    "# Helper Functions"
   ]
  },
  {
   "cell_type": "code",
   "execution_count": 12,
   "metadata": {},
   "outputs": [],
   "source": [
    "def mapFeature(X,degree,includeBiasVector=True):\n",
    "    \n",
    "    sz=X.shape[1]\n",
    "    if (sz==2):\n",
    "        sz=(degree+1)*(degree+2)/2\n",
    "        sz=int(sz)\n",
    "    else:\n",
    "         sz=degree+1\n",
    "\n",
    "    out=np.ones((X.shape[0],sz))\n",
    "\n",
    "    sz=X.shape[1]\n",
    "    if (sz==2):\n",
    "        X1=X[:, 0:1]\n",
    "        X2=X[:, 1:2]\n",
    "        col=1\n",
    "        for i in range(1,degree+1):        \n",
    "            for j in range(0,i+1):\n",
    "                out[:,col:col+1]= np.multiply(np.power(X1,i-j),np.power(X2,j))    \n",
    "                col+=1\n",
    "        return out\n",
    "    else:\n",
    "        for i in range(1,degree+1):        \n",
    "            out[:,i:i+1]= np.power(X,i)\n",
    "    if (includeBiasVector==False):\n",
    "        out=out[:,1:] #Remove Bias Vector\n",
    "\n",
    "    return out"
   ]
  },
  {
   "cell_type": "code",
   "execution_count": 8,
   "metadata": {},
   "outputs": [],
   "source": [
    "def SKLearnRegression(Xtrain, ytrain,degree,regAlpha,algorithm):\n",
    "    Xp=mapFeature(Xtrain,degree,False)    #Polynomial  \n",
    "    if (algorithm==\"Linear\"):\n",
    "        RegObj=LR.LinearRegression(normalize=True).fit(Xp,ytrain)\n",
    "    elif (algorithm==\"Ridge\"):\n",
    "        RegObj=LR.Ridge(alpha=regAlpha,normalize=True).fit(Xp,ytrain)\n",
    "    elif (algorithm==\"SVR\"):\n",
    "        RegObj=SM.SVR(degree=degree).fit(Xp,ytrain)\n",
    "    elif (algorithm==\"RandomForest\"):\n",
    "        RegObj=RF.RandomForestRegressor().fit(Xp,ytrain)\n",
    "    else:\n",
    "        RegObj=LR.LinearRegression(normalize=True).fit(Xp,ytrain)\n",
    "    return RegObj\n"
   ]
  },
  {
   "cell_type": "code",
   "execution_count": 16,
   "metadata": {},
   "outputs": [],
   "source": [
    "def SKLearnPredict(RegObj,X,degree):\n",
    "    Xp=mapFeature(X,degree,False)    #Polynomial  \n",
    "    Py=RegObj.predict(Xp)\n",
    "    return Py"
   ]
  },
  {
   "cell_type": "code",
   "execution_count": 17,
   "metadata": {},
   "outputs": [],
   "source": [
    "def SKLearnMSE(y_Actual,y_Predicted):\n",
    "    MSE= M.mean_squared_error(y_Actual, y_Predicted)\n",
    "    return MSE"
   ]
  },
  {
   "cell_type": "code",
   "execution_count": 14,
   "metadata": {},
   "outputs": [],
   "source": [
    "def SKLearnPlotHypothesis(RegObj,X,y,degree,regAlpha):\n",
    "    plt.scatter(X,y) \n",
    "    plt.title(\"Alpha=\"+str(regAlpha)+\",Degree=\"+str(degree))\n",
    "    x_min, x_max = X[:, 0].min()-1 , X[:, 0].max()+1 \n",
    "    u = np.linspace(x_min, x_max, 100)\n",
    "    u.shape=(len(u),1) \n",
    "    v=SKLearnPredict(RegObj,u,degree) \n",
    "    plt.plot(u, v,color='r')\n",
    "    return"
   ]
  },
  {
   "cell_type": "markdown",
   "metadata": {},
   "source": [
    "# Linear Regression"
   ]
  },
  {
   "cell_type": "code",
   "execution_count": 22,
   "metadata": {},
   "outputs": [
    {
     "data": {
      "image/png": "[encoded data removed]",
      "text/plain": [
       "<Figure size 1440x720 with 1 Axes>"
      ]
     },
     "metadata": {
      "needs_background": "light"
     },
     "output_type": "display_data"
    }
   ],
   "source": [
    "plt.figure(figsize=(20,10))\n",
    "regAlpha=None\n",
    "degree=2\n",
    "RegObj=SKLearnRegression(X,Y,degree,regAlpha,\"Linear\")\n",
    "plt.subplot(231)\n",
    "SKLearnPlotHypothesis(RegObj,X,Y,degree,regAlpha)\n",
    "predicted_y=SKLearnPredict(RegObj,X,degree)      \n",
    "MSE1=SKLearnMSE(Y,predicted_y)\n",
    "plt.title(\"Linear Regression\")\n",
    "plt.ylabel(\"MSE=\"+str(round(MSE1,3)) )\n",
    "plt.legend((\"Degree=\"+str(degree),\" Alpha=\"+str(regAlpha)))\n",
    "plt.show()"
   ]
  },
  {
   "cell_type": "markdown",
   "metadata": {},
   "source": [
    "# Ridge Regression"
   ]
  },
  {
   "cell_type": "code",
   "execution_count": 24,
   "metadata": {},
   "outputs": [
    {
     "data": {
      "image/png": "[encoded data removed]",
      "text/plain": [
       "<Figure size 1440x720 with 1 Axes>"
      ]
     },
     "metadata": {
      "needs_background": "light"
     },
     "output_type": "display_data"
    }
   ],
   "source": [
    "plt.figure(figsize=(20,10))\n",
    "regAlpha=1\n",
    "degree=8\n",
    "RegObj=SKLearnRegression(X,Y,degree,regAlpha,\"Ridge\")\n",
    "plt.subplot(232)\n",
    "SKLearnPlotHypothesis(RegObj,X,Y,degree,regAlpha)\n",
    "predicted_y=SKLearnPredict(RegObj,X,degree)      \n",
    "MSE2=SKLearnMSE(Y,predicted_y)\n",
    "plt.title(\"Ridge Regression\")\n",
    "plt.ylabel(\"MSE=\"+str(round(MSE2,3)))\n",
    "plt.legend((\"Degree=\"+str(degree),\" Alpha=\"+str(regAlpha)))\n",
    "plt.show()"
   ]
  },
  {
   "cell_type": "markdown",
   "metadata": {},
   "source": [
    "# SVR Regression"
   ]
  },
  {
   "cell_type": "code",
   "execution_count": 29,
   "metadata": {},
   "outputs": [
    {
     "name": "stderr",
     "output_type": "stream",
     "text": [
      "C:\\ProgramData\\Anaconda3\\lib\\site-packages\\sklearn\\svm\\base.py:196: FutureWarning: The default value of gamma will change from 'auto' to 'scale' in version 0.22 to account better for unscaled features. Set gamma explicitly to 'auto' or 'scale' to avoid this warning.\n",
      "  \"avoid this warning.\", FutureWarning)\n"
     ]
    },
    {
     "data": {
      "image/png": "[encoded data removed]",
      "text/plain": [
       "<Figure size 1440x720 with 1 Axes>"
      ]
     },
     "metadata": {
      "needs_background": "light"
     },
     "output_type": "display_data"
    }
   ],
   "source": [
    "plt.figure(figsize=(20,10))\n",
    "regAlpha=None\n",
    "degree=1\n",
    "RegObj=SKLearnRegression(X,Y.flatten(),degree,regAlpha,\"SVR\")\n",
    "plt.subplot(234)\n",
    "SKLearnPlotHypothesis(RegObj,X,Y,degree,regAlpha)\n",
    "predicted_y=SKLearnPredict(RegObj,X,degree)      \n",
    "MSE3=SKLearnMSE(Y,predicted_y)\n",
    "plt.xlabel(\"SVR Regression\")\n",
    "plt.ylabel(\"MSE=\"+str(round(MSE3,3))) \n",
    "plt.legend((\"Degree=\"+str(degree),\" Alpha=\"+str(regAlpha)))\n",
    "plt.show()"
   ]
  },
  {
   "cell_type": "markdown",
   "metadata": {},
   "source": [
    "# Random Forest Regression"
   ]
  },
  {
   "cell_type": "code",
   "execution_count": 31,
   "metadata": {},
   "outputs": [
    {
     "name": "stderr",
     "output_type": "stream",
     "text": [
      "C:\\ProgramData\\Anaconda3\\lib\\site-packages\\sklearn\\ensemble\\forest.py:246: FutureWarning: The default value of n_estimators will change from 10 in version 0.20 to 100 in 0.22.\n",
      "  \"10 in version 0.20 to 100 in 0.22.\", FutureWarning)\n"
     ]
    },
    {
     "data": {
      "image/png": "[encoded data removed]",
      "text/plain": [
       "<Figure size 1440x720 with 1 Axes>"
      ]
     },
     "metadata": {
      "needs_background": "light"
     },
     "output_type": "display_data"
    }
   ],
   "source": [
    "plt.figure(figsize=(20,10))\n",
    "regAlpha=None\n",
    "degree=8\n",
    "RegObj=SKLearnRegression(X,Y.flatten(),degree,regAlpha,\"RandomForest\")\n",
    "plt.subplot(235)\n",
    "SKLearnPlotHypothesis(RegObj,X,Y,degree,regAlpha)\n",
    "predicted_y=SKLearnPredict(RegObj,X,degree)      \n",
    "MSE4=SKLearnMSE(Y,predicted_y)\n",
    "plt.xlabel(\"Random Forest Regression\") \n",
    "plt.ylabel(\"MSE=\"+str(round(MSE4,3))) \n",
    "plt.legend((\"Degree=\"+str(degree),\" Alpha=\"+str(regAlpha)))\n",
    "plt.show()"
   ]
  },
  {
   "cell_type": "markdown",
   "metadata": {},
   "source": [
    "# Final Plot and Test Error"
   ]
  },
  {
   "cell_type": "code",
   "execution_count": 33,
   "metadata": {},
   "outputs": [
    {
     "data": {
      "image/png": "[encoded data removed]",
      "text/plain": [
       "<Figure size 720x360 with 1 Axes>"
      ]
     },
     "metadata": {
      "needs_background": "light"
     },
     "output_type": "display_data"
    }
   ],
   "source": [
    "plt.figure(figsize=(10,5))\n",
    "AlgoNames = ('Linear', 'Ridge', 'SVR', 'RandomForest')\n",
    "AlgoIndex = [1,2,3,4]\n",
    "AlgoMSE = [MSE1,MSE2,MSE3,MSE4]\n",
    "plt.bar(AlgoIndex, AlgoMSE, align='center', alpha=0.5)\n",
    "plt.xticks(AlgoIndex, AlgoNames)\n",
    "plt.ylabel('MSE')\n",
    "plt.title('Algorithm Mean Squared Error')\n",
    "plt.show()\n"
   ]
  },
  {
   "cell_type": "code",
   "execution_count": null,
   "metadata": {},
   "outputs": [],
   "source": []
  }
 ],
 "metadata": {
  "kernelspec": {
   "display_name": "Python 3",
   "language": "python",
   "name": "python3"
  },
  "language_info": {
   "codemirror_mode": {
    "name": "ipython",
    "version": 3
   },
   "file_extension": ".py",
   "mimetype": "text/x-python",
   "name": "python",
   "nbconvert_exporter": "python",
   "pygments_lexer": "ipython3",
   "version": "3.7.3"
  }
 },
 "nbformat": 4,
 "nbformat_minor": 1
}
