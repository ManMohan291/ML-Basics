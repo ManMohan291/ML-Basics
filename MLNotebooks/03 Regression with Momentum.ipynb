{
 "cells": [
  {
   "cell_type": "markdown",
   "metadata": {},
   "source": [
    "<h1>Regression with Momentum ( RMS Prop, Adam)"
   ]
  },
  {
   "cell_type": "markdown",
   "metadata": {
    "_uuid": "fbb83ab53f187857890b7bcd2a13603b7586651e"
   },
   "source": [
    "<h3>Cylinder Volume Prediction</h3>\n",
    "<p> As a chanllage we gernerated Training data with some radius and height using formula \n",
    "    $volume=\\pi r^2 h$   where r is radius and h is height. Now we will train using either algo and will try to predict new data. As we try to fit the data, it converages very slow and requires some momentum algorithm like RMS Prop OR Adam."
   ]
  },
  {
   "cell_type": "markdown",
   "metadata": {},
   "source": [
    "<h5>Using Polynomial Regresion of degree 3 in two variables x and y</h5>\n",
    "<p>\n",
    "$h(x) = w_0 + w_1 x+ w_2 y + w_3 x^2 + w_4 x y + w_5 y^2 + w_6 y^3  + w_7 x y^2 + w_8 x^2 y + w_9 x^3 $\n",
    "  \n",
    "</p> "
   ]
  },
  {
   "cell_type": "markdown",
   "metadata": {},
   "source": [
    "<h3>Gradient Descent</h3>\n",
    "   Normally we update gradient as\n",
    "<p>$W := W - \\alpha  DW $\n",
    "\n",
    "<h3>With Momentum</h3>\n",
    "    <p>$\\beta1:=0.9$\n",
    "    <p>$vDW:=\\beta1  (vDW) +(1-\\beta1) DW$\n",
    "    <p>$W := W - \\alpha  (vDW) $\n",
    "\n",
    "<h3>With RMS Prop</h3>\n",
    "    <p>$\\beta2:=0.99$\n",
    "    <p>$sDW:=\\beta2  (sDW) +(1-\\beta2) (Dw)^2$\n",
    "    <p>$W := W - \\alpha \\frac{DW}{\\sqrt{sDW}}  $\n",
    " <h3>With Adam</h3>\n",
    "     <p>$\\beta1:=0.9$\n",
    "    <p>$\\beta2:=0.99$\n",
    "     <p>$vDW:=\\beta1 (vDW) +(1-\\beta1) (DW) $\n",
    "    <p>$sDW:=\\beta2  (sDW) +(1-\\beta2) (DW)^2 $ \n",
    "     <p> Bias Correction  \n",
    "    <p>$vDWc:=\\frac{vDW}{(1-\\beta1^k)} $     where K is iteration \n",
    "    <p>$sDWc:=\\frac{sDW}{(1-\\beta2^k)} $     \n",
    "    <p>$W := W - \\alpha \\frac{vDWc}{\\sqrt{sDWc}}$\n",
    "    "
   ]
  },
  {
   "cell_type": "code",
   "execution_count": 1,
   "metadata": {
    "_cell_guid": "b1076dfc-b9ad-4769-8c92-a6c4dae69d19",
    "_uuid": "8f2839f25d086af736a60e9eeb907d3b93b6e0e5"
   },
   "outputs": [],
   "source": [
    "import numpy as np \n",
    "import pandas as pd \n",
    "import sklearn.utils as skutils\n",
    "import sklearn.model_selection as skmodelsel\n",
    "import matplotlib.pyplot as plt\n",
    "from mpl_toolkits.mplot3d import Axes3D"
   ]
  },
  {
   "cell_type": "markdown",
   "metadata": {
    "_uuid": "48af0c24b890335a0ed6374004138ce723b8448d"
   },
   "source": [
    "<H1>Read Data from CSV"
   ]
  },
  {
   "cell_type": "code",
   "execution_count": 2,
   "metadata": {},
   "outputs": [
    {
     "data": {
      "text/html": [
       "<div>\n",
       "<style scoped>\n",
       "    .dataframe tbody tr th:only-of-type {\n",
       "        vertical-align: middle;\n",
       "    }\n",
       "\n",
       "    .dataframe tbody tr th {\n",
       "        vertical-align: top;\n",
       "    }\n",
       "\n",
       "    .dataframe thead th {\n",
       "        text-align: right;\n",
       "    }\n",
       "</style>\n",
       "<table border=\"1\" class=\"dataframe\">\n",
       "  <thead>\n",
       "    <tr style=\"text-align: right;\">\n",
       "      <th></th>\n",
       "      <th>rowid</th>\n",
       "      <th>radius</th>\n",
       "      <th>height</th>\n",
       "      <th>volume</th>\n",
       "    </tr>\n",
       "  </thead>\n",
       "  <tbody>\n",
       "    <tr>\n",
       "      <th>2947</th>\n",
       "      <td>2948</td>\n",
       "      <td>24.0</td>\n",
       "      <td>14.5</td>\n",
       "      <td>26238.581843</td>\n",
       "    </tr>\n",
       "    <tr>\n",
       "      <th>6853</th>\n",
       "      <td>6854</td>\n",
       "      <td>27.0</td>\n",
       "      <td>34.0</td>\n",
       "      <td>77867.515512</td>\n",
       "    </tr>\n",
       "    <tr>\n",
       "      <th>9589</th>\n",
       "      <td>9590</td>\n",
       "      <td>45.0</td>\n",
       "      <td>47.5</td>\n",
       "      <td>302181.943367</td>\n",
       "    </tr>\n",
       "    <tr>\n",
       "      <th>2038</th>\n",
       "      <td>2039</td>\n",
       "      <td>19.5</td>\n",
       "      <td>10.0</td>\n",
       "      <td>11945.906065</td>\n",
       "    </tr>\n",
       "    <tr>\n",
       "      <th>2636</th>\n",
       "      <td>2637</td>\n",
       "      <td>18.5</td>\n",
       "      <td>13.0</td>\n",
       "      <td>13977.731114</td>\n",
       "    </tr>\n",
       "  </tbody>\n",
       "</table>\n",
       "</div>"
      ],
      "text/plain": [
       "      rowid  radius  height         volume\n",
       "2947   2948    24.0    14.5   26238.581843\n",
       "6853   6854    27.0    34.0   77867.515512\n",
       "9589   9590    45.0    47.5  302181.943367\n",
       "2038   2039    19.5    10.0   11945.906065\n",
       "2636   2637    18.5    13.0   13977.731114"
      ]
     },
     "execution_count": 2,
     "metadata": {},
     "output_type": "execute_result"
    }
   ],
   "source": [
    "df = pd.read_csv('../input/CylinderVolumeDS/CylinderVolume.csv')   #Training Dataset\n",
    "df = skutils.shuffle(df)\n",
    "dfTrain, dfValid = skmodelsel.train_test_split(df, test_size=0.2)\n",
    "dfTrain.head()"
   ]
  },
  {
   "cell_type": "markdown",
   "metadata": {},
   "source": [
    "<h5> Visualize Data"
   ]
  },
  {
   "cell_type": "code",
   "execution_count": 3,
   "metadata": {},
   "outputs": [
    {
     "data": {
      "text/plain": [
       "<matplotlib.axes._subplots.AxesSubplot at 0x1a4d2fdac50>"
      ]
     },
     "execution_count": 3,
     "metadata": {},
     "output_type": "execute_result"
    },
    {
     "data": {
      "image/png": "[encoded data removed]",
      "text/plain": [
       "<Figure size 432x288 with 1 Axes>"
      ]
     },
     "metadata": {
      "needs_background": "light"
     },
     "output_type": "display_data"
    }
   ],
   "source": [
    "dfTrain.plot(x='radius',y='volume',kind='scatter')"
   ]
  },
  {
   "cell_type": "code",
   "execution_count": 4,
   "metadata": {
    "scrolled": true
   },
   "outputs": [
    {
     "data": {
      "text/plain": [
       "<matplotlib.axes._subplots.AxesSubplot at 0x1a4d31f4470>"
      ]
     },
     "execution_count": 4,
     "metadata": {},
     "output_type": "execute_result"
    },
    {
     "data": {
      "image/png": "[encoded data removed]",
      "text/plain": [
       "<Figure size 432x288 with 1 Axes>"
      ]
     },
     "metadata": {
      "needs_background": "light"
     },
     "output_type": "display_data"
    }
   ],
   "source": [
    "dfTrain.plot(x='height',y='volume',kind='scatter')"
   ]
  },
  {
   "cell_type": "code",
   "execution_count": 5,
   "metadata": {},
   "outputs": [
    {
     "data": {
      "image/png": "[encoded data removed]",
      "text/plain": [
       "<Figure size 432x288 with 1 Axes>"
      ]
     },
     "metadata": {
      "needs_background": "light"
     },
     "output_type": "display_data"
    }
   ],
   "source": [
    "#%matplotlib notebook\n",
    "plt3D = plt.figure().gca(projection='3d')\n",
    "plt3D.scatter(dfTrain['radius'], dfTrain['height'], dfTrain['volume'])\n",
    "plt3D.set_xlabel('radius')\n",
    "plt3D.set_ylabel('height')\n",
    "plt3D.set_zlabel('volume')\n",
    "plt.show()"
   ]
  },
  {
   "cell_type": "markdown",
   "metadata": {},
   "source": [
    "<h1>Extract Input Feature to <b>X </b>and Label to <b>y</b>"
   ]
  },
  {
   "cell_type": "code",
   "execution_count": 6,
   "metadata": {},
   "outputs": [],
   "source": [
    "def extractFeatures(df):\n",
    "    df_Features=df.loc[:,['radius','height']]\n",
    "    df_Label=df.loc[:,['volume']]\n",
    "    X=df_Features.values\n",
    "    Y=df_Label.values\n",
    "    return X,Y"
   ]
  },
  {
   "cell_type": "code",
   "execution_count": 7,
   "metadata": {},
   "outputs": [],
   "source": [
    "X,Y=extractFeatures(dfTrain)"
   ]
  },
  {
   "cell_type": "markdown",
   "metadata": {},
   "source": [
    "<h5>Normalize Input    "
   ]
  },
  {
   "cell_type": "code",
   "execution_count": 8,
   "metadata": {},
   "outputs": [],
   "source": [
    "SMean=np.min(X,axis=0)    #using Min-Max Normalization\n",
    "SDev=np.max(X,axis=0)\n",
    "def NormalizeInput(X,SMean,SDev):   \n",
    "    XNorm=(X-SMean)/SDev\n",
    "    return XNorm"
   ]
  },
  {
   "cell_type": "code",
   "execution_count": 9,
   "metadata": {},
   "outputs": [],
   "source": [
    "XNorm=NormalizeInput(X,SMean,SDev)"
   ]
  },
  {
   "cell_type": "markdown",
   "metadata": {},
   "source": [
    "<h5>Add Polynomial Features"
   ]
  },
  {
   "cell_type": "code",
   "execution_count": 10,
   "metadata": {},
   "outputs": [],
   "source": [
    "def mapFeature(X,degree):\n",
    "    \n",
    "    sz=X.shape[1]\n",
    "    if (sz==2):\n",
    "        sz=(degree+1)*(degree+2)/2\n",
    "        sz=int(sz)\n",
    "    else:\n",
    "         sz=degree+1\n",
    "    out=np.ones((X.shape[0],sz))     #Adding Bias W0\n",
    "\n",
    "    sz=X.shape[1]\n",
    "    if (sz==2):\n",
    "        X1=X[:, 0:1]\n",
    "        X2=X[:, 1:2]\n",
    "        col=1\n",
    "        for i in range(1,degree+1):        \n",
    "            for j in range(0,i+1):\n",
    "                out[:,col:col+1]= np.multiply(np.power(X1,i-j),np.power(X2,j))    \n",
    "                col+=1\n",
    "        return out\n",
    "    else:\n",
    "        for i in range(1,degree+1):        \n",
    "            out[:,i:i+1]= np.power(X,i)\n",
    "    \n",
    "    return out"
   ]
  },
  {
   "cell_type": "code",
   "execution_count": 11,
   "metadata": {},
   "outputs": [],
   "source": [
    "degree=3\n",
    "inputX=mapFeature(XNorm,degree)  "
   ]
  },
  {
   "cell_type": "markdown",
   "metadata": {},
   "source": [
    "<h1> Training"
   ]
  },
  {
   "cell_type": "markdown",
   "metadata": {},
   "source": [
    "<h5> Initialization"
   ]
  },
  {
   "cell_type": "code",
   "execution_count": 12,
   "metadata": {},
   "outputs": [],
   "source": [
    "batchSize=len(Y)         #no of Examples\n",
    "iterations = 10000\n",
    "alpha = 1000000000\n",
    "beta1=0.99\n",
    "beta2=0.999\n",
    "learningDecayRate=0.9998\n",
    "epsilon=0.0000000001\n",
    "featureCount=inputX.shape[1] \n",
    "weights=np.zeros((featureCount, 1)) #initialize Weight Paramters\n",
    "vDW=np.zeros((featureCount, 1))\n",
    "sDW=np.zeros((featureCount, 1))\n",
    "lossList=np.zeros((iterations,1),dtype=float)  #for plotting loss curve"
   ]
  },
  {
   "cell_type": "markdown",
   "metadata": {},
   "source": [
    "<h5> Gradient Descent Updates"
   ]
  },
  {
   "cell_type": "code",
   "execution_count": 13,
   "metadata": {},
   "outputs": [
    {
     "name": "stdout",
     "output_type": "stream",
     "text": [
      "0.000000000000000\n"
     ]
    }
   ],
   "source": [
    "\n",
    "for k in range(iterations):\n",
    "    #nth iteration\n",
    "    t=k+1\n",
    "    \n",
    "    #Hypothesis\n",
    "    hypothesis=np.matmul( inputX,weights)           \n",
    "    \n",
    "    #Loss\n",
    "    loss=hypothesis-Y  \n",
    "    \n",
    "    \n",
    "    #derivative\n",
    "    dW=np.matmul(inputX.T,loss)  #Derivative\n",
    "   \n",
    "    #learning Rate decrease as training progresses \n",
    "    alpha=alpha*learningDecayRate\n",
    "    \n",
    "    #gradient Update\n",
    "    vDW = (beta1) *vDW+ (1-beta1) *dW        #Momentum  \n",
    "    sDW = (beta2) *sDW+ (1-beta2) *(dW**2)   #RMSProp\n",
    "    \n",
    "    vDWc =vDW/(1-beta1**t)\n",
    "    sDWc =sDW/(1-beta2**t)\n",
    "    \n",
    "    #weights=weights - (alpha/batchSize)*vDW     #Momentum   \n",
    "    #weights=weights - (alpha/batchSize)*dW/np.sqrt(csDW+epsilon)     #RMSProp \n",
    "    weights=weights - (alpha/batchSize)*(vDWc/(np.sqrt(sDWc)+epsilon)) #Adam          \n",
    "    \n",
    "    \n",
    "    #Compute Loss for Plotting\n",
    "    newLoss=np.matmul( inputX,weights)-Y\n",
    "    newLossSqr=np.multiply(newLoss,newLoss)\n",
    "    lossList[k]=(1.0/(2.0*batchSize))* np.sum(newLossSqr)\n",
    "\n",
    "print(\"{0:.15f}\".format(lossList[iterations-1][0]))"
   ]
  },
  {
   "cell_type": "markdown",
   "metadata": {},
   "source": [
    "<h1>Plot Loss Curve"
   ]
  },
  {
   "cell_type": "code",
   "execution_count": 14,
   "metadata": {},
   "outputs": [
    {
     "data": {
      "text/plain": [
       "[<matplotlib.lines.Line2D at 0x1a4d3696080>]"
      ]
     },
     "execution_count": 14,
     "metadata": {},
     "output_type": "execute_result"
    },
    {
     "data": {
      "image/png": "[encoded data removed]",
      "text/plain": [
       "<Figure size 432x288 with 1 Axes>"
      ]
     },
     "metadata": {
      "needs_background": "light"
     },
     "output_type": "display_data"
    }
   ],
   "source": [
    "plt.plot(lossList[9000:10000],color='r')\n"
   ]
  },
  {
   "cell_type": "markdown",
   "metadata": {},
   "source": [
    "<h1> Prediction/RMSE Evaluation"
   ]
  },
  {
   "cell_type": "code",
   "execution_count": 15,
   "metadata": {},
   "outputs": [],
   "source": [
    "def predict(X,weights,SMean,SDev,degree):\n",
    "    XNorm=NormalizeInput(X,SMean,SDev)\n",
    "    inputX=mapFeature(XNorm,degree)\n",
    "    PY=np.matmul(inputX, weights)\n",
    "    return PY\n"
   ]
  },
  {
   "cell_type": "code",
   "execution_count": 16,
   "metadata": {},
   "outputs": [],
   "source": [
    "def getRMSE(aY,pY):\n",
    "    Error=aY- pY\n",
    "    ErrorSqr=Error**2\n",
    "    MSE=ErrorSqr.mean()\n",
    "    RMSE=np.sqrt(MSE)\n",
    "    return RMSE"
   ]
  },
  {
   "cell_type": "markdown",
   "metadata": {},
   "source": [
    "<h5>RMSE on Training Data"
   ]
  },
  {
   "cell_type": "code",
   "execution_count": 17,
   "metadata": {},
   "outputs": [
    {
     "name": "stdout",
     "output_type": "stream",
     "text": [
      "0.000000000288460\n"
     ]
    }
   ],
   "source": [
    "pY=predict(X, weights,SMean,SDev,degree)  # Predict with bias feature added\n",
    "print(\"{0:.15f}\".format(getRMSE(Y, pY)))"
   ]
  },
  {
   "cell_type": "markdown",
   "metadata": {},
   "source": [
    "<h5> RMSE on Validation Data"
   ]
  },
  {
   "cell_type": "code",
   "execution_count": 18,
   "metadata": {},
   "outputs": [
    {
     "name": "stdout",
     "output_type": "stream",
     "text": [
      "0.000000000291640\n"
     ]
    }
   ],
   "source": [
    "vX,vY=extractFeatures(dfValid)\n",
    "pY=predict(vX, weights,SMean,SDev,degree)  # Predict with bias feature added\n",
    "print(\"{0:.15f}\".format(getRMSE(vY, pY)))"
   ]
  },
  {
   "cell_type": "markdown",
   "metadata": {},
   "source": [
    "<h2> Model Final Verification (Try different values Manually)"
   ]
  },
  {
   "cell_type": "code",
   "execution_count": 19,
   "metadata": {},
   "outputs": [
    {
     "name": "stdout",
     "output_type": "stream",
     "text": [
      "19863087.1186619177\n"
     ]
    }
   ],
   "source": [
    "radius=189\n",
    "height=177\n",
    "pi=3.14159265358979   #Same as Excel Function correct upto 15 decimal places\n",
    "Volume=pi*radius**2*height\n",
    "print(\"{0:.10f}\".format(Volume))"
   ]
  },
  {
   "cell_type": "code",
   "execution_count": 20,
   "metadata": {},
   "outputs": [
    {
     "name": "stdout",
     "output_type": "stream",
     "text": [
      "19863087.1186618879\n"
     ]
    }
   ],
   "source": [
    "pY=predict([[radius,height]], weights,SMean,SDev,degree)  # Predict with bias feature added\n",
    "print(\"{0:.10f}\".format(pY[0][0]))"
   ]
  },
  {
   "cell_type": "code",
   "execution_count": null,
   "metadata": {},
   "outputs": [],
   "source": []
  }
 ],
 "metadata": {
  "kernelspec": {
   "display_name": "Python 3",
   "language": "python",
   "name": "python3"
  },
  "language_info": {
   "codemirror_mode": {
    "name": "ipython",
    "version": 3
   },
   "file_extension": ".py",
   "mimetype": "text/x-python",
   "name": "python",
   "nbconvert_exporter": "python",
   "pygments_lexer": "ipython3",
   "version": "3.7.3"
  }
 },
 "nbformat": 4,
 "nbformat_minor": 1
}
