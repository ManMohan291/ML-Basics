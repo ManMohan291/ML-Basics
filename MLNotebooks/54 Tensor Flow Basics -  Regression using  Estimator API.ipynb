{
 "cells": [
  {
   "cell_type": "markdown",
   "metadata": {
    "_uuid": "6c95590882b8eb98a3286b0bafaa2409ce7e19e9"
   },
   "source": [
    "# Tensor Flow Basics -  Regression using  Estimator API"
   ]
  },
  {
   "cell_type": "markdown",
   "metadata": {},
   "source": [
    "Tensorflow have two regressor API\n",
    "  - Linear Regressor\n",
    "  - DNN Regressor"
   ]
  },
  {
   "cell_type": "code",
   "execution_count": 1,
   "metadata": {
    "_uuid": "4f7296ca4e4da035e23fbc4228b9c4eb06bc4726"
   },
   "outputs": [
    {
     "name": "stdout",
     "output_type": "stream",
     "text": [
      "1.13.0-rc1\n"
     ]
    }
   ],
   "source": [
    "import tensorflow as tf\n",
    "import pandas as pd\n",
    "import numpy as np\n",
    "import matplotlib.pyplot as plt\n",
    "import shutil\n",
    "tf.logging.set_verbosity(tf.logging.ERROR)\n",
    "print(tf.__version__)"
   ]
  },
  {
   "cell_type": "markdown",
   "metadata": {
    "_uuid": "c96dbaeed3a146768479f0f20c19ada49d685e1a"
   },
   "source": [
    "<h2>Read data</h2>"
   ]
  },
  {
   "cell_type": "code",
   "execution_count": 2,
   "metadata": {
    "_uuid": "ca95a4f35609584956b26b4568b023c53a9a2044"
   },
   "outputs": [],
   "source": [
    "CSV_COLUMNS = ['X', 'Y']\n",
    "FEATURES = CSV_COLUMNS[0:len(CSV_COLUMNS)-1]\n",
    "LABEL = CSV_COLUMNS[1]\n",
    "\n",
    "\n",
    "df_train = pd.read_csv('../input/LinearRegressionDS/LinearRegressionTrainingData.csv')\n",
    "df_valid = pd.read_csv('../input/LinearRegressionDS/LinearRegressionValidData.csv')\n",
    "df_test = pd.read_csv('../input/LinearRegressionDS/LinearRegressionTestData.csv')"
   ]
  },
  {
   "cell_type": "code",
   "execution_count": 3,
   "metadata": {
    "_uuid": "a1952ac7557369a12303e9a4bc53038d05ded42f"
   },
   "outputs": [
    {
     "data": {
      "text/html": [
       "<div>\n",
       "<style scoped>\n",
       "    .dataframe tbody tr th:only-of-type {\n",
       "        vertical-align: middle;\n",
       "    }\n",
       "\n",
       "    .dataframe tbody tr th {\n",
       "        vertical-align: top;\n",
       "    }\n",
       "\n",
       "    .dataframe thead th {\n",
       "        text-align: right;\n",
       "    }\n",
       "</style>\n",
       "<table border=\"1\" class=\"dataframe\">\n",
       "  <thead>\n",
       "    <tr style=\"text-align: right;\">\n",
       "      <th></th>\n",
       "      <th>X</th>\n",
       "      <th>Y</th>\n",
       "    </tr>\n",
       "  </thead>\n",
       "  <tbody>\n",
       "    <tr>\n",
       "      <th>0</th>\n",
       "      <td>-15.936758</td>\n",
       "      <td>2.134311</td>\n",
       "    </tr>\n",
       "    <tr>\n",
       "      <th>1</th>\n",
       "      <td>-29.152979</td>\n",
       "      <td>1.173257</td>\n",
       "    </tr>\n",
       "    <tr>\n",
       "      <th>2</th>\n",
       "      <td>36.189549</td>\n",
       "      <td>34.359109</td>\n",
       "    </tr>\n",
       "    <tr>\n",
       "      <th>3</th>\n",
       "      <td>37.492187</td>\n",
       "      <td>36.837955</td>\n",
       "    </tr>\n",
       "    <tr>\n",
       "      <th>4</th>\n",
       "      <td>-48.058829</td>\n",
       "      <td>2.808965</td>\n",
       "    </tr>\n",
       "  </tbody>\n",
       "</table>\n",
       "</div>"
      ],
      "text/plain": [
       "           X          Y\n",
       "0 -15.936758   2.134311\n",
       "1 -29.152979   1.173257\n",
       "2  36.189549  34.359109\n",
       "3  37.492187  36.837955\n",
       "4 -48.058829   2.808965"
      ]
     },
     "execution_count": 3,
     "metadata": {},
     "output_type": "execute_result"
    }
   ],
   "source": [
    "df_train.head()"
   ]
  },
  {
   "cell_type": "code",
   "execution_count": 4,
   "metadata": {
    "_uuid": "5c678db541b81918a761cdee5a09df40d0826f92"
   },
   "outputs": [
    {
     "data": {
      "text/html": [
       "<div>\n",
       "<style scoped>\n",
       "    .dataframe tbody tr th:only-of-type {\n",
       "        vertical-align: middle;\n",
       "    }\n",
       "\n",
       "    .dataframe tbody tr th {\n",
       "        vertical-align: top;\n",
       "    }\n",
       "\n",
       "    .dataframe thead th {\n",
       "        text-align: right;\n",
       "    }\n",
       "</style>\n",
       "<table border=\"1\" class=\"dataframe\">\n",
       "  <thead>\n",
       "    <tr style=\"text-align: right;\">\n",
       "      <th></th>\n",
       "      <th>X</th>\n",
       "      <th>Y</th>\n",
       "    </tr>\n",
       "  </thead>\n",
       "  <tbody>\n",
       "    <tr>\n",
       "      <th>0</th>\n",
       "      <td>-33.318004</td>\n",
       "      <td>3.316890</td>\n",
       "    </tr>\n",
       "    <tr>\n",
       "      <th>1</th>\n",
       "      <td>-37.912164</td>\n",
       "      <td>5.397690</td>\n",
       "    </tr>\n",
       "    <tr>\n",
       "      <th>2</th>\n",
       "      <td>-51.206938</td>\n",
       "      <td>0.130430</td>\n",
       "    </tr>\n",
       "    <tr>\n",
       "      <th>3</th>\n",
       "      <td>-6.132596</td>\n",
       "      <td>6.192598</td>\n",
       "    </tr>\n",
       "    <tr>\n",
       "      <th>4</th>\n",
       "      <td>21.261183</td>\n",
       "      <td>17.088487</td>\n",
       "    </tr>\n",
       "  </tbody>\n",
       "</table>\n",
       "</div>"
      ],
      "text/plain": [
       "           X          Y\n",
       "0 -33.318004   3.316890\n",
       "1 -37.912164   5.397690\n",
       "2 -51.206938   0.130430\n",
       "3  -6.132596   6.192598\n",
       "4  21.261183  17.088487"
      ]
     },
     "execution_count": 4,
     "metadata": {},
     "output_type": "execute_result"
    }
   ],
   "source": [
    "df_test.head()"
   ]
  },
  {
   "cell_type": "markdown",
   "metadata": {
    "_uuid": "f321c7b58012ccf60dd49adea803c9062bc25959"
   },
   "source": [
    "# Helper Functions"
   ]
  },
  {
   "cell_type": "code",
   "execution_count": 5,
   "metadata": {},
   "outputs": [],
   "source": [
    "def make_feature_cols():\n",
    "  input_columns = [tf.feature_column.numeric_column(k) for k in FEATURES]\n",
    "  return input_columns"
   ]
  },
  {
   "cell_type": "code",
   "execution_count": 6,
   "metadata": {},
   "outputs": [],
   "source": [
    "def make_train_input_fn(df, num_epochs):\n",
    "  return tf.estimator.inputs.pandas_input_fn(\n",
    "    x = df,\n",
    "    y = df[LABEL],\n",
    "    batch_size = 128,\n",
    "    num_epochs = num_epochs,\n",
    "    shuffle = True,\n",
    "    queue_capacity = 1000\n",
    "  )\n",
    "def make_eval_input_fn(df):\n",
    "  return tf.estimator.inputs.pandas_input_fn(\n",
    "    x = df,\n",
    "    y = df[LABEL],\n",
    "    batch_size = 128,\n",
    "    shuffle = False,\n",
    "    queue_capacity = 1000\n",
    "  )\n",
    "def make_predict_input_fn(df):\n",
    "  return tf.estimator.inputs.pandas_input_fn(\n",
    "    x = df,\n",
    "    y = None,\n",
    "    batch_size = 128,\n",
    "    shuffle = False,\n",
    "    queue_capacity = 1000\n",
    "  )"
   ]
  },
  {
   "cell_type": "code",
   "execution_count": 7,
   "metadata": {},
   "outputs": [],
   "source": [
    "def print_rmse(model, df):\n",
    "  print('RMSE on dataset = {}'.format(get_rmse(model, df)))\n",
    "  "
   ]
  },
  {
   "cell_type": "code",
   "execution_count": 8,
   "metadata": {},
   "outputs": [],
   "source": [
    "def get_rmse(model, df):\n",
    "  metrics = model.evaluate(input_fn = make_eval_input_fn(df))\n",
    "  return np.sqrt(metrics['average_loss'])"
   ]
  },
  {
   "cell_type": "code",
   "execution_count": 9,
   "metadata": {},
   "outputs": [],
   "source": [
    "def predict(model,df):   \n",
    "    predictions =  model.predict(input_fn =make_predict_input_fn(df))\n",
    "    t=[]\n",
    "    for items in predictions:\n",
    "        t.append(items['predictions'])\n",
    "\n",
    "    Py=np.asarray(t )\n",
    "    Py=np.squeeze(Py)\n",
    "    Py=Py.reshape((len(Py),1))\n",
    "    return Py"
   ]
  },
  {
   "cell_type": "markdown",
   "metadata": {
    "_uuid": "0e42d5a8a6044fecde704e199d4da7e7eb26716f"
   },
   "source": [
    "# Linear Regressor"
   ]
  },
  {
   "cell_type": "code",
   "execution_count": 10,
   "metadata": {
    "_uuid": "53fb9e90075dc6b0c87867a029049e1e89264f16"
   },
   "outputs": [],
   "source": [
    "\n",
    "\n",
    "tf_feature_columns = [tf.feature_column.numeric_column(k) for k in FEATURES]\n",
    "tf_input_train=make_train_input_fn(df_train, num_epochs=50000)\n",
    "tf_input_valid=make_eval_input_fn(df_valid)\n",
    "tf_input_test=make_predict_input_fn(df_test)\n"
   ]
  },
  {
   "cell_type": "markdown",
   "metadata": {},
   "source": [
    "### Training"
   ]
  },
  {
   "cell_type": "code",
   "execution_count": 11,
   "metadata": {
    "_uuid": "13032b51e6e5aa3e1fd0ac4817ba026b27694342"
   },
   "outputs": [],
   "source": [
    "model = tf.estimator.LinearRegressor(feature_columns = make_feature_cols())\n",
    "retvalue= model.train(input_fn =tf_input_train)"
   ]
  },
  {
   "cell_type": "markdown",
   "metadata": {
    "_uuid": "3d56584332a29b8dcb5d6ad4e3c70166b886c5fc"
   },
   "source": [
    "### Evaluating "
   ]
  },
  {
   "cell_type": "code",
   "execution_count": 12,
   "metadata": {
    "_uuid": "770dbbd531de8f0dc7d8a471c0adf6e9d22a3bdf"
   },
   "outputs": [
    {
     "name": "stdout",
     "output_type": "stream",
     "text": [
      "RMSE on dataset = 7.674804210662842\n"
     ]
    }
   ],
   "source": [
    "print_rmse(model,df_valid)"
   ]
  },
  {
   "cell_type": "markdown",
   "metadata": {
    "_uuid": "173d9151d2a4f162ecc54617487ada00704087c5"
   },
   "source": [
    "### Predicting"
   ]
  },
  {
   "cell_type": "code",
   "execution_count": 13,
   "metadata": {
    "_uuid": "2ce47727537df1d62230838a2b2c3d1c6a53662c"
   },
   "outputs": [
    {
     "name": "stdout",
     "output_type": "stream",
     "text": [
      "[[ 7.142713  ]\n",
      " [ 2.3130674 ]\n",
      " [26.191395  ]\n",
      " [26.667421  ]\n",
      " [-4.5957575 ]\n",
      " [ 9.699028  ]\n",
      " [18.560509  ]\n",
      " [ 0.28371334]\n",
      " [13.474175  ]\n",
      " [-3.2527647 ]\n",
      " [15.529499  ]\n",
      " [21.284796  ]]\n"
     ]
    }
   ],
   "source": [
    "Py=predict(model,df_train)\n",
    "print(Py)"
   ]
  },
  {
   "cell_type": "markdown",
   "metadata": {},
   "source": [
    "### Plotting"
   ]
  },
  {
   "cell_type": "code",
   "execution_count": 14,
   "metadata": {},
   "outputs": [
    {
     "data": {
      "image/png": "[encoded data removed]",
      "text/plain": [
       "<Figure size 432x288 with 1 Axes>"
      ]
     },
     "metadata": {
      "needs_background": "light"
     },
     "output_type": "display_data"
    }
   ],
   "source": [
    "df=df_train.values \n",
    "X=df[:,0:1]\n",
    "Y=df[:,1:2]\n",
    "plt.scatter(X,Y) \n",
    "x_min, x_max = X[:, 0].min() - 20, X[:, 0].max() + 20\n",
    "lineX = np.linspace(x_min, x_max, 100)\n",
    "lineX.shape=(len(lineX),1)\n",
    "np_line=np.column_stack((lineX,lineX))\n",
    "df_line= pd.DataFrame(data=np_line, columns=['X','Y'])\n",
    "Py=predict(model,df_line)\n",
    "plt.plot(lineX, Py,color='r')\n",
    "plt.title('Linear Regressor\\n (RMSE={:.2f}) '.format(get_rmse(model,df_train)))\n",
    "plt.show()"
   ]
  },
  {
   "cell_type": "markdown",
   "metadata": {
    "_uuid": "9ae17a6e8cc9e150c2b372cb95f8180fdfaff8d4"
   },
   "source": [
    "# Deep Neural Network(DNN) Regressor"
   ]
  },
  {
   "cell_type": "code",
   "execution_count": 15,
   "metadata": {},
   "outputs": [],
   "source": [
    "tf_feature_columns = [tf.feature_column.numeric_column(k) for k in FEATURES]\n",
    "tf_input_train=make_train_input_fn(df_train, num_epochs=50000)\n",
    "tf_input_valid=make_eval_input_fn(df_valid)\n",
    "tf_input_test=make_predict_input_fn(df_test)"
   ]
  },
  {
   "cell_type": "markdown",
   "metadata": {},
   "source": [
    "### Training"
   ]
  },
  {
   "cell_type": "code",
   "execution_count": 16,
   "metadata": {
    "_uuid": "8543d57e68c437e3b2b8dd81b5e1dddcacad2317"
   },
   "outputs": [],
   "source": [
    "modelDNN = tf.estimator.DNNRegressor(hidden_units = [20,16, 8,3],feature_columns = tf_feature_columns)\n",
    "retvalue= modelDNN.train(input_fn = tf_input_train)"
   ]
  },
  {
   "cell_type": "markdown",
   "metadata": {},
   "source": [
    "### Evaluating "
   ]
  },
  {
   "cell_type": "code",
   "execution_count": 17,
   "metadata": {
    "_uuid": "8543d57e68c437e3b2b8dd81b5e1dddcacad2317"
   },
   "outputs": [
    {
     "name": "stdout",
     "output_type": "stream",
     "text": [
      "RMSE on dataset = 4.655484199523926\n"
     ]
    }
   ],
   "source": [
    "print_rmse(modelDNN,df_valid)"
   ]
  },
  {
   "cell_type": "markdown",
   "metadata": {},
   "source": [
    "### Predicting"
   ]
  },
  {
   "cell_type": "code",
   "execution_count": 18,
   "metadata": {},
   "outputs": [
    {
     "name": "stdout",
     "output_type": "stream",
     "text": [
      "[[ 2.1314695]\n",
      " [ 1.7084317]\n",
      " [35.139084 ]\n",
      " [36.392254 ]\n",
      " [ 3.3799672]\n",
      " [ 2.1288717]\n",
      " [15.050411 ]\n",
      " [ 2.199418 ]\n",
      " [ 3.7445524]\n",
      " [ 3.0550408]\n",
      " [ 7.637591 ]\n",
      " [22.22223  ]]\n"
     ]
    }
   ],
   "source": [
    "Py=predict(modelDNN,df_train)\n",
    "print(Py)"
   ]
  },
  {
   "cell_type": "markdown",
   "metadata": {},
   "source": [
    "### Plotting"
   ]
  },
  {
   "cell_type": "code",
   "execution_count": 19,
   "metadata": {},
   "outputs": [
    {
     "data": {
      "image/png": "[encoded data removed]",
      "text/plain": [
       "<Figure size 432x288 with 1 Axes>"
      ]
     },
     "metadata": {
      "needs_background": "light"
     },
     "output_type": "display_data"
    }
   ],
   "source": [
    "df=df_train.values \n",
    "X=df[:,0:1]\n",
    "Y=df[:,1:2]\n",
    "plt.scatter(X,Y) \n",
    "x_min, x_max = X[:, 0].min() - 20, X[:, 0].max() + 20\n",
    "lineX = np.linspace(x_min, x_max, 100)\n",
    "lineX.shape=(len(lineX),1)\n",
    "np_line=np.column_stack((lineX,lineX))\n",
    "df_line= pd.DataFrame(data=np_line, columns=['X','Y'])\n",
    "Py=predict(modelDNN,df_line)\n",
    "plt.plot(lineX, Py,color='r')\n",
    "plt.title('DNN Regressor\\n (RMSE={:.2f}) '.format(get_rmse(modelDNN,df_train)))\n",
    "plt.show()"
   ]
  },
  {
   "cell_type": "code",
   "execution_count": null,
   "metadata": {},
   "outputs": [],
   "source": []
  }
 ],
 "metadata": {
  "kernelspec": {
   "display_name": "Python 3",
   "language": "python",
   "name": "python3"
  },
  "language_info": {
   "codemirror_mode": {
    "name": "ipython",
    "version": 3
   },
   "file_extension": ".py",
   "mimetype": "text/x-python",
   "name": "python",
   "nbconvert_exporter": "python",
   "pygments_lexer": "ipython3",
   "version": "3.7.3"
  }
 },
 "nbformat": 4,
 "nbformat_minor": 1
}
