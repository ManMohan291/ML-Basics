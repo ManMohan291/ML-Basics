{
 "cells": [
  {
   "cell_type": "markdown",
   "metadata": {
    "_uuid": "fbb83ab53f187857890b7bcd2a13603b7586651e"
   },
   "source": [
    "# GUI Window using PyQt5 - Web Browser Application"
   ]
  },
  {
   "cell_type": "code",
   "execution_count": 1,
   "metadata": {
    "_cell_guid": "b1076dfc-b9ad-4769-8c92-a6c4dae69d19",
    "_uuid": "8f2839f25d086af736a60e9eeb907d3b93b6e0e5",
    "scrolled": true
   },
   "outputs": [],
   "source": [
    "import sys\n",
    "from PyQt5 import QtCore, QtGui,QtWidgets\n",
    "from PyQt5.QtWidgets import QApplication\n",
    "from PyQt5.QtCore import QUrl\n",
    "from PyQt5.QtWebEngineWidgets  import QWebEngineView\n"
   ]
  },
  {
   "cell_type": "markdown",
   "metadata": {
    "_cell_guid": "b1076dfc-b9ad-4769-8c92-a6c4dae69d19",
    "_uuid": "8f2839f25d086af736a60e9eeb907d3b93b6e0e5"
   },
   "source": [
    "# Browser Form Initialize"
   ]
  },
  {
   "cell_type": "code",
   "execution_count": 2,
   "metadata": {},
   "outputs": [],
   "source": [
    "try:\n",
    "    _fromUtf8 = QtCore.QString.fromUtf8\n",
    "except AttributeError:\n",
    "    def _fromUtf8(s):\n",
    "        return s\n",
    " \n",
    "try:\n",
    "    _encoding = QtWidgets.QApplication.UnicodeUTF8\n",
    "    def _translate(context, text, disambig):\n",
    "        return QtWidgets.QApplication.translate(context, text, disambig, _encoding)\n",
    "except AttributeError:\n",
    "    def _translate(context, text, disambig):\n",
    "        return QtWidgets.QApplication.translate(context, text, disambig)\n",
    " \n",
    "class BrowserDialog(object):\n",
    "    def setupUi(self, Dialog):\n",
    "        Dialog.setObjectName(_fromUtf8(\"Dialog\"))\n",
    "        Dialog.resize(1024, 768)\n",
    "        self.qwebview = QWebEngineView(Dialog)\n",
    "        self.qwebview.setGeometry(QtCore.QRect(0, 50, 1020, 711))\n",
    "        self.qwebview.setObjectName(_fromUtf8(\"kwebview\"))\n",
    "        self.lineEdit = QtWidgets.QLineEdit(Dialog)\n",
    "        self.lineEdit.setGeometry(QtCore.QRect(10, 20, 1000, 25))\n",
    "        self.lineEdit.setObjectName(_fromUtf8(\"lineEdit\"))\n",
    " \n",
    "        self.retranslateUi(Dialog)\n",
    "        QtCore.QMetaObject.connectSlotsByName(Dialog)\n",
    " \n",
    "    def retranslateUi(self, Dialog):\n",
    "        Dialog.setWindowTitle(_translate(\"Browser\", \"Browser\", None))"
   ]
  },
  {
   "cell_type": "markdown",
   "metadata": {},
   "source": [
    "# Using Browser"
   ]
  },
  {
   "cell_type": "code",
   "execution_count": 4,
   "metadata": {
    "_cell_guid": "b1076dfc-b9ad-4769-8c92-a6c4dae69d19",
    "_uuid": "8f2839f25d086af736a60e9eeb907d3b93b6e0e5"
   },
   "outputs": [],
   "source": [
    "class MyBrowser(QtWidgets.QDialog):\n",
    "    def __init__(self, parent=None):\n",
    "        QtWidgets.QWidget.__init__(self, parent)\n",
    "        QWebEngineView.__init__(self)\n",
    "        self.ui = BrowserDialog()\n",
    "        self.ui.setupUi(self)\n",
    "        self.ui.lineEdit.returnPressed.connect(self.loadURL)\n",
    " \n",
    "    def loadURL(self):\n",
    "        url = self.ui.lineEdit.text()\n",
    "        self.ui.qwebview.load(QUrl(url))\n",
    "        self.show()  \n",
    " "
   ]
  },
  {
   "cell_type": "markdown",
   "metadata": {
    "_cell_guid": "b1076dfc-b9ad-4769-8c92-a6c4dae69d19",
    "_uuid": "8f2839f25d086af736a60e9eeb907d3b93b6e0e5"
   },
   "source": [
    "# Show Browser"
   ]
  },
  {
   "cell_type": "code",
   "execution_count": 5,
   "metadata": {
    "_cell_guid": "b1076dfc-b9ad-4769-8c92-a6c4dae69d19",
    "_uuid": "8f2839f25d086af736a60e9eeb907d3b93b6e0e5"
   },
   "outputs": [],
   "source": [
    "if __name__ == \"__main__\":\n",
    "    app = QtWidgets.QApplication(sys.argv)\n",
    "    myapp = MyBrowser()\n",
    "    myapp.ui.qwebview.load(QUrl('http://www.pythonspot.com'))\n",
    "    myapp.show()\n",
    "    app.exec_()"
   ]
  },
  {
   "cell_type": "code",
   "execution_count": null,
   "metadata": {},
   "outputs": [],
   "source": []
  }
 ],
 "metadata": {
  "kernelspec": {
   "display_name": "Python 3",
   "language": "python",
   "name": "python3"
  },
  "language_info": {
   "codemirror_mode": {
    "name": "ipython",
    "version": 3
   },
   "file_extension": ".py",
   "mimetype": "text/x-python",
   "name": "python",
   "nbconvert_exporter": "python",
   "pygments_lexer": "ipython3",
   "version": "3.7.3"
  }
 },
 "nbformat": 4,
 "nbformat_minor": 1
}
