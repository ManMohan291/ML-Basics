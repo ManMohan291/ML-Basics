{
 "cells": [
  {
   "cell_type": "markdown",
   "metadata": {
    "_uuid": "fbb83ab53f187857890b7bcd2a13603b7586651e"
   },
   "source": [
    "<h1>Neural Network(Classification) </h1>\n"
   ]
  },
  {
   "cell_type": "code",
   "execution_count": 1,
   "metadata": {
    "_cell_guid": "b1076dfc-b9ad-4769-8c92-a6c4dae69d19",
    "_uuid": "8f2839f25d086af736a60e9eeb907d3b93b6e0e5"
   },
   "outputs": [],
   "source": [
    "import numpy as np \n",
    "import pandas as pd \n",
    "import math\n",
    "import zipfile\n",
    "import scipy.optimize as op\n",
    "import matplotlib.pyplot as plt\n",
    "import cv2 as cv2\n",
    "import tensorflow as tf"
   ]
  },
  {
   "cell_type": "markdown",
   "metadata": {
    "_uuid": "48af0c24b890335a0ed6374004138ce723b8448d"
   },
   "source": [
    "# Read Image Data from Zipped CSV\n",
    "    \n",
    " There are 5000 training examples, where each training example is a 20 pixel by 20 pixel grayscale image of the digit. Each pixel is represented by a ﬂoating point number indicating the grayscale intensity at that location. The 20 by 20 grid of pixels is “unrolled” into a 400-dimensional vector. Each of these training examples becomes a single row in our data matrix X. This gives us a 5000 by 400 matrix X where every row is a training example for a handwritten digit image.  \n",
    " \n",
    " \n",
    "$X =    \n",
    "\\displaystyle \\left[ \\begin{matrix} \n",
    "— (x^{(1)})^T —\\\\ \n",
    "— (x^{(2)})^T —\\\\\n",
    ". . . \\\\\n",
    "— (x^{(m)})^T \n",
    "\\end{matrix} \\displaystyle \\right]$\n",
    "   \n",
    "    "
   ]
  },
  {
   "cell_type": "code",
   "execution_count": 2,
   "metadata": {},
   "outputs": [
    {
     "data": {
      "text/html": [
       "<div>\n",
       "<style scoped>\n",
       "    .dataframe tbody tr th:only-of-type {\n",
       "        vertical-align: middle;\n",
       "    }\n",
       "\n",
       "    .dataframe tbody tr th {\n",
       "        vertical-align: top;\n",
       "    }\n",
       "\n",
       "    .dataframe thead th {\n",
       "        text-align: right;\n",
       "    }\n",
       "</style>\n",
       "<table border=\"1\" class=\"dataframe\">\n",
       "  <thead>\n",
       "    <tr style=\"text-align: right;\">\n",
       "      <th></th>\n",
       "      <th>0</th>\n",
       "      <th>1</th>\n",
       "      <th>2</th>\n",
       "      <th>3</th>\n",
       "      <th>4</th>\n",
       "      <th>5</th>\n",
       "      <th>6</th>\n",
       "      <th>7</th>\n",
       "      <th>8</th>\n",
       "      <th>9</th>\n",
       "      <th>...</th>\n",
       "      <th>391</th>\n",
       "      <th>392</th>\n",
       "      <th>393</th>\n",
       "      <th>394</th>\n",
       "      <th>395</th>\n",
       "      <th>396</th>\n",
       "      <th>397</th>\n",
       "      <th>398</th>\n",
       "      <th>399</th>\n",
       "      <th>400</th>\n",
       "    </tr>\n",
       "  </thead>\n",
       "  <tbody>\n",
       "    <tr>\n",
       "      <th>0</th>\n",
       "      <td>0</td>\n",
       "      <td>0</td>\n",
       "      <td>0.0</td>\n",
       "      <td>0.0</td>\n",
       "      <td>0.0</td>\n",
       "      <td>0.0</td>\n",
       "      <td>0.0</td>\n",
       "      <td>0.0</td>\n",
       "      <td>0.0</td>\n",
       "      <td>0.0</td>\n",
       "      <td>...</td>\n",
       "      <td>0.0</td>\n",
       "      <td>0.0</td>\n",
       "      <td>0.0</td>\n",
       "      <td>0.0</td>\n",
       "      <td>0.0</td>\n",
       "      <td>0.0</td>\n",
       "      <td>0.0</td>\n",
       "      <td>0.0</td>\n",
       "      <td>0</td>\n",
       "      <td>0</td>\n",
       "    </tr>\n",
       "    <tr>\n",
       "      <th>1</th>\n",
       "      <td>0</td>\n",
       "      <td>0</td>\n",
       "      <td>0.0</td>\n",
       "      <td>0.0</td>\n",
       "      <td>0.0</td>\n",
       "      <td>0.0</td>\n",
       "      <td>0.0</td>\n",
       "      <td>0.0</td>\n",
       "      <td>0.0</td>\n",
       "      <td>0.0</td>\n",
       "      <td>...</td>\n",
       "      <td>0.0</td>\n",
       "      <td>0.0</td>\n",
       "      <td>0.0</td>\n",
       "      <td>0.0</td>\n",
       "      <td>0.0</td>\n",
       "      <td>0.0</td>\n",
       "      <td>0.0</td>\n",
       "      <td>0.0</td>\n",
       "      <td>0</td>\n",
       "      <td>0</td>\n",
       "    </tr>\n",
       "    <tr>\n",
       "      <th>2</th>\n",
       "      <td>0</td>\n",
       "      <td>0</td>\n",
       "      <td>0.0</td>\n",
       "      <td>0.0</td>\n",
       "      <td>0.0</td>\n",
       "      <td>0.0</td>\n",
       "      <td>0.0</td>\n",
       "      <td>0.0</td>\n",
       "      <td>0.0</td>\n",
       "      <td>0.0</td>\n",
       "      <td>...</td>\n",
       "      <td>0.0</td>\n",
       "      <td>0.0</td>\n",
       "      <td>0.0</td>\n",
       "      <td>0.0</td>\n",
       "      <td>0.0</td>\n",
       "      <td>0.0</td>\n",
       "      <td>0.0</td>\n",
       "      <td>0.0</td>\n",
       "      <td>0</td>\n",
       "      <td>0</td>\n",
       "    </tr>\n",
       "    <tr>\n",
       "      <th>3</th>\n",
       "      <td>0</td>\n",
       "      <td>0</td>\n",
       "      <td>0.0</td>\n",
       "      <td>0.0</td>\n",
       "      <td>0.0</td>\n",
       "      <td>0.0</td>\n",
       "      <td>0.0</td>\n",
       "      <td>0.0</td>\n",
       "      <td>0.0</td>\n",
       "      <td>0.0</td>\n",
       "      <td>...</td>\n",
       "      <td>0.0</td>\n",
       "      <td>0.0</td>\n",
       "      <td>0.0</td>\n",
       "      <td>0.0</td>\n",
       "      <td>0.0</td>\n",
       "      <td>0.0</td>\n",
       "      <td>0.0</td>\n",
       "      <td>0.0</td>\n",
       "      <td>0</td>\n",
       "      <td>0</td>\n",
       "    </tr>\n",
       "    <tr>\n",
       "      <th>4</th>\n",
       "      <td>0</td>\n",
       "      <td>0</td>\n",
       "      <td>0.0</td>\n",
       "      <td>0.0</td>\n",
       "      <td>0.0</td>\n",
       "      <td>0.0</td>\n",
       "      <td>0.0</td>\n",
       "      <td>0.0</td>\n",
       "      <td>0.0</td>\n",
       "      <td>0.0</td>\n",
       "      <td>...</td>\n",
       "      <td>0.0</td>\n",
       "      <td>0.0</td>\n",
       "      <td>0.0</td>\n",
       "      <td>0.0</td>\n",
       "      <td>0.0</td>\n",
       "      <td>0.0</td>\n",
       "      <td>0.0</td>\n",
       "      <td>0.0</td>\n",
       "      <td>0</td>\n",
       "      <td>0</td>\n",
       "    </tr>\n",
       "  </tbody>\n",
       "</table>\n",
       "<p>5 rows × 401 columns</p>\n",
       "</div>"
      ],
      "text/plain": [
       "   0    1    2    3    4    5    6    7    8    9    ...  391  392  393  394  \\\n",
       "0    0    0  0.0  0.0  0.0  0.0  0.0  0.0  0.0  0.0  ...  0.0  0.0  0.0  0.0   \n",
       "1    0    0  0.0  0.0  0.0  0.0  0.0  0.0  0.0  0.0  ...  0.0  0.0  0.0  0.0   \n",
       "2    0    0  0.0  0.0  0.0  0.0  0.0  0.0  0.0  0.0  ...  0.0  0.0  0.0  0.0   \n",
       "3    0    0  0.0  0.0  0.0  0.0  0.0  0.0  0.0  0.0  ...  0.0  0.0  0.0  0.0   \n",
       "4    0    0  0.0  0.0  0.0  0.0  0.0  0.0  0.0  0.0  ...  0.0  0.0  0.0  0.0   \n",
       "\n",
       "   395  396  397  398  399  400  \n",
       "0  0.0  0.0  0.0  0.0    0    0  \n",
       "1  0.0  0.0  0.0  0.0    0    0  \n",
       "2  0.0  0.0  0.0  0.0    0    0  \n",
       "3  0.0  0.0  0.0  0.0    0    0  \n",
       "4  0.0  0.0  0.0  0.0    0    0  \n",
       "\n",
       "[5 rows x 401 columns]"
      ]
     },
     "execution_count": 2,
     "metadata": {},
     "output_type": "execute_result"
    }
   ],
   "source": [
    "zf = zipfile.ZipFile('../input/DigitsDS/DigitsImageData.zip')\n",
    "dfTrain = pd.read_csv(zf.open('DigitsImageData.csv'),header=None)   #Training Dataset\n",
    "dfTrain.iloc[:,400]=dfTrain.iloc[:,400].replace(10,0)    #Replace 10 with 0\n",
    "dfTrain.head()"
   ]
  },
  {
   "cell_type": "code",
   "execution_count": 3,
   "metadata": {},
   "outputs": [
    {
     "data": {
      "text/html": [
       "<div>\n",
       "<style scoped>\n",
       "    .dataframe tbody tr th:only-of-type {\n",
       "        vertical-align: middle;\n",
       "    }\n",
       "\n",
       "    .dataframe tbody tr th {\n",
       "        vertical-align: top;\n",
       "    }\n",
       "\n",
       "    .dataframe thead th {\n",
       "        text-align: right;\n",
       "    }\n",
       "</style>\n",
       "<table border=\"1\" class=\"dataframe\">\n",
       "  <thead>\n",
       "    <tr style=\"text-align: right;\">\n",
       "      <th></th>\n",
       "      <th>0</th>\n",
       "      <th>1</th>\n",
       "      <th>2</th>\n",
       "      <th>3</th>\n",
       "      <th>4</th>\n",
       "      <th>5</th>\n",
       "      <th>6</th>\n",
       "      <th>7</th>\n",
       "      <th>8</th>\n",
       "      <th>9</th>\n",
       "      <th>...</th>\n",
       "      <th>391</th>\n",
       "      <th>392</th>\n",
       "      <th>393</th>\n",
       "      <th>394</th>\n",
       "      <th>395</th>\n",
       "      <th>396</th>\n",
       "      <th>397</th>\n",
       "      <th>398</th>\n",
       "      <th>399</th>\n",
       "      <th>400</th>\n",
       "    </tr>\n",
       "  </thead>\n",
       "  <tbody>\n",
       "    <tr>\n",
       "      <th>count</th>\n",
       "      <td>5000.0</td>\n",
       "      <td>5000.0</td>\n",
       "      <td>5.000000e+03</td>\n",
       "      <td>5000.000000</td>\n",
       "      <td>5000.000000</td>\n",
       "      <td>5000.000000</td>\n",
       "      <td>5000.000000</td>\n",
       "      <td>5000.000000</td>\n",
       "      <td>5000.000000</td>\n",
       "      <td>5000.000000</td>\n",
       "      <td>...</td>\n",
       "      <td>5000.000000</td>\n",
       "      <td>5000.000000</td>\n",
       "      <td>5000.000000</td>\n",
       "      <td>5000.000000</td>\n",
       "      <td>5000.000000</td>\n",
       "      <td>5000.000000</td>\n",
       "      <td>5000.000000</td>\n",
       "      <td>5.000000e+03</td>\n",
       "      <td>5000.0</td>\n",
       "      <td>5000.000000</td>\n",
       "    </tr>\n",
       "    <tr>\n",
       "      <th>mean</th>\n",
       "      <td>0.0</td>\n",
       "      <td>0.0</td>\n",
       "      <td>1.549060e-07</td>\n",
       "      <td>-0.000002</td>\n",
       "      <td>-0.000004</td>\n",
       "      <td>0.000117</td>\n",
       "      <td>0.000145</td>\n",
       "      <td>0.000080</td>\n",
       "      <td>0.000019</td>\n",
       "      <td>0.000044</td>\n",
       "      <td>...</td>\n",
       "      <td>0.000016</td>\n",
       "      <td>0.000122</td>\n",
       "      <td>0.000034</td>\n",
       "      <td>0.000006</td>\n",
       "      <td>0.000025</td>\n",
       "      <td>0.000009</td>\n",
       "      <td>0.000004</td>\n",
       "      <td>-4.121051e-07</td>\n",
       "      <td>0.0</td>\n",
       "      <td>4.500000</td>\n",
       "    </tr>\n",
       "    <tr>\n",
       "      <th>std</th>\n",
       "      <td>0.0</td>\n",
       "      <td>0.0</td>\n",
       "      <td>1.095351e-05</td>\n",
       "      <td>0.000108</td>\n",
       "      <td>0.000285</td>\n",
       "      <td>0.007398</td>\n",
       "      <td>0.007496</td>\n",
       "      <td>0.005057</td>\n",
       "      <td>0.003937</td>\n",
       "      <td>0.003653</td>\n",
       "      <td>...</td>\n",
       "      <td>0.005944</td>\n",
       "      <td>0.009318</td>\n",
       "      <td>0.008125</td>\n",
       "      <td>0.004369</td>\n",
       "      <td>0.004687</td>\n",
       "      <td>0.001564</td>\n",
       "      <td>0.000300</td>\n",
       "      <td>3.091390e-05</td>\n",
       "      <td>0.0</td>\n",
       "      <td>2.872569</td>\n",
       "    </tr>\n",
       "    <tr>\n",
       "      <th>min</th>\n",
       "      <td>0.0</td>\n",
       "      <td>0.0</td>\n",
       "      <td>0.000000e+00</td>\n",
       "      <td>-0.007163</td>\n",
       "      <td>-0.010297</td>\n",
       "      <td>-0.029396</td>\n",
       "      <td>-0.028706</td>\n",
       "      <td>-0.045485</td>\n",
       "      <td>-0.054957</td>\n",
       "      <td>-0.042550</td>\n",
       "      <td>...</td>\n",
       "      <td>-0.052807</td>\n",
       "      <td>-0.050588</td>\n",
       "      <td>-0.053324</td>\n",
       "      <td>-0.051814</td>\n",
       "      <td>-0.048580</td>\n",
       "      <td>-0.022029</td>\n",
       "      <td>-0.008572</td>\n",
       "      <td>-2.183926e-03</td>\n",
       "      <td>0.0</td>\n",
       "      <td>0.000000</td>\n",
       "    </tr>\n",
       "    <tr>\n",
       "      <th>25%</th>\n",
       "      <td>0.0</td>\n",
       "      <td>0.0</td>\n",
       "      <td>0.000000e+00</td>\n",
       "      <td>0.000000</td>\n",
       "      <td>0.000000</td>\n",
       "      <td>0.000000</td>\n",
       "      <td>0.000000</td>\n",
       "      <td>0.000000</td>\n",
       "      <td>0.000000</td>\n",
       "      <td>0.000000</td>\n",
       "      <td>...</td>\n",
       "      <td>0.000000</td>\n",
       "      <td>0.000000</td>\n",
       "      <td>0.000000</td>\n",
       "      <td>0.000000</td>\n",
       "      <td>0.000000</td>\n",
       "      <td>0.000000</td>\n",
       "      <td>0.000000</td>\n",
       "      <td>0.000000e+00</td>\n",
       "      <td>0.0</td>\n",
       "      <td>2.000000</td>\n",
       "    </tr>\n",
       "    <tr>\n",
       "      <th>50%</th>\n",
       "      <td>0.0</td>\n",
       "      <td>0.0</td>\n",
       "      <td>0.000000e+00</td>\n",
       "      <td>0.000000</td>\n",
       "      <td>0.000000</td>\n",
       "      <td>0.000000</td>\n",
       "      <td>0.000000</td>\n",
       "      <td>0.000000</td>\n",
       "      <td>0.000000</td>\n",
       "      <td>0.000000</td>\n",
       "      <td>...</td>\n",
       "      <td>0.000000</td>\n",
       "      <td>0.000000</td>\n",
       "      <td>0.000000</td>\n",
       "      <td>0.000000</td>\n",
       "      <td>0.000000</td>\n",
       "      <td>0.000000</td>\n",
       "      <td>0.000000</td>\n",
       "      <td>0.000000e+00</td>\n",
       "      <td>0.0</td>\n",
       "      <td>4.500000</td>\n",
       "    </tr>\n",
       "    <tr>\n",
       "      <th>75%</th>\n",
       "      <td>0.0</td>\n",
       "      <td>0.0</td>\n",
       "      <td>0.000000e+00</td>\n",
       "      <td>0.000000</td>\n",
       "      <td>0.000000</td>\n",
       "      <td>0.000000</td>\n",
       "      <td>0.000000</td>\n",
       "      <td>0.000000</td>\n",
       "      <td>0.000000</td>\n",
       "      <td>0.000000</td>\n",
       "      <td>...</td>\n",
       "      <td>0.000000</td>\n",
       "      <td>0.000000</td>\n",
       "      <td>0.000000</td>\n",
       "      <td>0.000000</td>\n",
       "      <td>0.000000</td>\n",
       "      <td>0.000000</td>\n",
       "      <td>0.000000</td>\n",
       "      <td>0.000000e+00</td>\n",
       "      <td>0.0</td>\n",
       "      <td>7.000000</td>\n",
       "    </tr>\n",
       "    <tr>\n",
       "      <th>max</th>\n",
       "      <td>0.0</td>\n",
       "      <td>0.0</td>\n",
       "      <td>7.745302e-04</td>\n",
       "      <td>0.000567</td>\n",
       "      <td>0.012817</td>\n",
       "      <td>0.506215</td>\n",
       "      <td>0.466290</td>\n",
       "      <td>0.254189</td>\n",
       "      <td>0.246560</td>\n",
       "      <td>0.237271</td>\n",
       "      <td>...</td>\n",
       "      <td>0.239926</td>\n",
       "      <td>0.351204</td>\n",
       "      <td>0.447564</td>\n",
       "      <td>0.204862</td>\n",
       "      <td>0.277293</td>\n",
       "      <td>0.075121</td>\n",
       "      <td>0.018903</td>\n",
       "      <td>8.510349e-05</td>\n",
       "      <td>0.0</td>\n",
       "      <td>9.000000</td>\n",
       "    </tr>\n",
       "  </tbody>\n",
       "</table>\n",
       "<p>8 rows × 401 columns</p>\n",
       "</div>"
      ],
      "text/plain": [
       "          0       1             2            3            4            5    \\\n",
       "count  5000.0  5000.0  5.000000e+03  5000.000000  5000.000000  5000.000000   \n",
       "mean      0.0     0.0  1.549060e-07    -0.000002    -0.000004     0.000117   \n",
       "std       0.0     0.0  1.095351e-05     0.000108     0.000285     0.007398   \n",
       "min       0.0     0.0  0.000000e+00    -0.007163    -0.010297    -0.029396   \n",
       "25%       0.0     0.0  0.000000e+00     0.000000     0.000000     0.000000   \n",
       "50%       0.0     0.0  0.000000e+00     0.000000     0.000000     0.000000   \n",
       "75%       0.0     0.0  0.000000e+00     0.000000     0.000000     0.000000   \n",
       "max       0.0     0.0  7.745302e-04     0.000567     0.012817     0.506215   \n",
       "\n",
       "               6            7            8            9    ...          391  \\\n",
       "count  5000.000000  5000.000000  5000.000000  5000.000000  ...  5000.000000   \n",
       "mean      0.000145     0.000080     0.000019     0.000044  ...     0.000016   \n",
       "std       0.007496     0.005057     0.003937     0.003653  ...     0.005944   \n",
       "min      -0.028706    -0.045485    -0.054957    -0.042550  ...    -0.052807   \n",
       "25%       0.000000     0.000000     0.000000     0.000000  ...     0.000000   \n",
       "50%       0.000000     0.000000     0.000000     0.000000  ...     0.000000   \n",
       "75%       0.000000     0.000000     0.000000     0.000000  ...     0.000000   \n",
       "max       0.466290     0.254189     0.246560     0.237271  ...     0.239926   \n",
       "\n",
       "               392          393          394          395          396  \\\n",
       "count  5000.000000  5000.000000  5000.000000  5000.000000  5000.000000   \n",
       "mean      0.000122     0.000034     0.000006     0.000025     0.000009   \n",
       "std       0.009318     0.008125     0.004369     0.004687     0.001564   \n",
       "min      -0.050588    -0.053324    -0.051814    -0.048580    -0.022029   \n",
       "25%       0.000000     0.000000     0.000000     0.000000     0.000000   \n",
       "50%       0.000000     0.000000     0.000000     0.000000     0.000000   \n",
       "75%       0.000000     0.000000     0.000000     0.000000     0.000000   \n",
       "max       0.351204     0.447564     0.204862     0.277293     0.075121   \n",
       "\n",
       "               397           398     399          400  \n",
       "count  5000.000000  5.000000e+03  5000.0  5000.000000  \n",
       "mean      0.000004 -4.121051e-07     0.0     4.500000  \n",
       "std       0.000300  3.091390e-05     0.0     2.872569  \n",
       "min      -0.008572 -2.183926e-03     0.0     0.000000  \n",
       "25%       0.000000  0.000000e+00     0.0     2.000000  \n",
       "50%       0.000000  0.000000e+00     0.0     4.500000  \n",
       "75%       0.000000  0.000000e+00     0.0     7.000000  \n",
       "max       0.018903  8.510349e-05     0.0     9.000000  \n",
       "\n",
       "[8 rows x 401 columns]"
      ]
     },
     "execution_count": 3,
     "metadata": {},
     "output_type": "execute_result"
    }
   ],
   "source": [
    "dfTrain.describe()"
   ]
  },
  {
   "cell_type": "markdown",
   "metadata": {},
   "source": [
    "<h2>Extract Input Feature to <b>X </b>and Label to <b>Y</b></h2>\n",
    "<h5>X=(X1 &amp; X2 in DS) and Y(Class in DS)   "
   ]
  },
  {
   "cell_type": "code",
   "execution_count": 4,
   "metadata": {},
   "outputs": [],
   "source": [
    "def extractFeatures(df):\n",
    "    df_Features=df.iloc[:,0:400]\n",
    "    df_Label=df.iloc[:,400:401]\n",
    "    X=df_Features.values\n",
    "    Y=df_Label.values\n",
    "    return X,Y"
   ]
  },
  {
   "cell_type": "code",
   "execution_count": 5,
   "metadata": {},
   "outputs": [],
   "source": [
    "X,Y=extractFeatures(dfTrain)"
   ]
  },
  {
   "cell_type": "markdown",
   "metadata": {},
   "source": [
    "##### Mnist Data can be downloaded using Tensorflow or Keras Library \n",
    "\n",
    "```\n",
    "#Load Data\n",
    "\n",
    "(X, Y), (x_test, y_test) = tf.keras.datasets.mnist.load_data()\n",
    "#Convert Dataset Same as above\n",
    "X=np.transpose(X, (0,2,1))\n",
    "X=X.reshape(60000,28*28)\n",
    "Y=Y.reshape(60000,1)\n",
    "\n",
    "#View Random Digit\n",
    "\n",
    "plt.axis('off')\n",
    "plt.imshow(X[21,:].reshape(28,28).T, cmap='Greys')\n",
    "print(Y[21,:])\n",
    "\n",
    "plt.show()\n",
    "\n",
    "```"
   ]
  },
  {
   "cell_type": "markdown",
   "metadata": {},
   "source": [
    "<h2> Visualize Image Data"
   ]
  },
  {
   "cell_type": "markdown",
   "metadata": {},
   "source": [
    "<h5> View Random Single Image"
   ]
  },
  {
   "cell_type": "code",
   "execution_count": 6,
   "metadata": {},
   "outputs": [
    {
     "name": "stdout",
     "output_type": "stream",
     "text": [
      "[0]\n"
     ]
    },
    {
     "data": {
      "image/png": "[encoded data removed]",
      "text/plain": [
       "<Figure size 432x288 with 1 Axes>"
      ]
     },
     "metadata": {
      "needs_background": "light"
     },
     "output_type": "display_data"
    }
   ],
   "source": [
    "plt.axis('off')\n",
    "plt.imshow(X[21,:].reshape(20,20).T)\n",
    "#plt.imshow(X[21,:].reshape(28,28).T, cmap='Greys')\n",
    "print(Y[21,:])\n",
    "\n",
    "plt.show()"
   ]
  },
  {
   "cell_type": "markdown",
   "metadata": {},
   "source": [
    "<h5> View Random Multiple Images"
   ]
  },
  {
   "cell_type": "code",
   "execution_count": 7,
   "metadata": {},
   "outputs": [],
   "source": [
    "def displayImages(X, example_width=None):\n",
    "    plt.close()\n",
    "    plt.figure()\n",
    "    if X.ndim == 1:\n",
    "        X = np.reshape(X, (-1,X.shape[0]))\n",
    "    if not example_width or not 'example_width' in locals():\n",
    "        example_width = int(round(math.sqrt(X.shape[1])))\n",
    "    plt.set_cmap(\"gray\")\n",
    "    m, n = X.shape\n",
    "    example_height =int( n / example_width)\n",
    "    display_rows = int(math.floor(math.sqrt(m)))\n",
    "    display_cols = int(math.ceil(m / display_rows))\n",
    "    pad = 1\n",
    "    display_array = -np.ones((pad + display_rows * (example_height + pad),  pad + display_cols * (example_width + pad)))\n",
    "    curr_ex = 1\n",
    "    for j in range(1,display_rows+1):\n",
    "        for i in range (1,display_cols+1):\n",
    "            if curr_ex > m:\n",
    "                break\n",
    "            max_val = max(abs(X[curr_ex-1, :]))\n",
    "            rows = pad + (j - 1) * (example_height + pad) + np.array(range(example_height))\n",
    "            cols = pad + (i - 1) * (example_width  + pad) + np.array(range(example_width ))\t\t\t\n",
    "            display_array[rows[0]:rows[-1]+1 , cols[0]:cols[-1]+1] = np.reshape(X[curr_ex-1, :], (example_height, example_width), order=\"F\") / max_val\n",
    "            curr_ex += 1\n",
    "        if curr_ex > m:\n",
    "            break\n",
    "    h = plt.imshow(display_array)\n",
    "    plt.axis('off')\n",
    "    return h, display_array"
   ]
  },
  {
   "cell_type": "markdown",
   "metadata": {},
   "source": [
    "Run the following Cell again to view Random Images in Training Data"
   ]
  },
  {
   "cell_type": "code",
   "execution_count": 8,
   "metadata": {},
   "outputs": [
    {
     "data": {
      "image/png": "[encoded data removed]",
      "text/plain": [
       "<Figure size 432x288 with 1 Axes>"
      ]
     },
     "metadata": {
      "needs_background": "light"
     },
     "output_type": "display_data"
    }
   ],
   "source": [
    "rand_indices = np.random.permutation(X.shape[0])\n",
    "selectedImages = X[rand_indices[:100],:]\n",
    "displayImages(selectedImages)\n",
    "plt.show()"
   ]
  },
  {
   "cell_type": "markdown",
   "metadata": {
    "_uuid": "167ece15ebb00ea60716e89d306d118c15e84955"
   },
   "source": [
    "<h1>Training"
   ]
  },
  {
   "cell_type": "code",
   "execution_count": 9,
   "metadata": {},
   "outputs": [],
   "source": [
    "def sigmoid(z):\n",
    "    return 1/(1 + np.exp(-z))"
   ]
  },
  {
   "cell_type": "code",
   "execution_count": 10,
   "metadata": {},
   "outputs": [],
   "source": [
    "def sigmoidGradient(z):\n",
    "    g = 1.0 / (1.0 + np.exp(-z))\n",
    "    g = g*(1-g)\n",
    "    return g"
   ]
  },
  {
   "cell_type": "code",
   "execution_count": 11,
   "metadata": {},
   "outputs": [],
   "source": [
    "def addBiasVector(X):\n",
    "    r=np.column_stack((np.ones((X.shape[0],1)),X))\n",
    "    return r"
   ]
  },
  {
   "cell_type": "code",
   "execution_count": 12,
   "metadata": {},
   "outputs": [],
   "source": [
    "def nnCostFunction(nn_params, input_layer_size, hidden_layer_size, num_labels, X, hotY, lambda_reg):\n",
    "    \n",
    "    W1=nn_params[:hidden_layer_size * (input_layer_size + 1)]\n",
    "    W1 =W1.reshape((hidden_layer_size, input_layer_size + 1))\n",
    "\n",
    "    W2=nn_params[hidden_layer_size * (input_layer_size + 1):]\n",
    "    W2 = W2.reshape((num_labels, hidden_layer_size + 1))\n",
    "\n",
    "    dW1 = np.zeros( W1.shape )\n",
    "    dW2 = np.zeros( W2.shape )\n",
    "    m = len(X)   \n",
    "      \n",
    "    # forward Propagation\n",
    "    #▔▔▔▔▔▔▔▔▔▔▔\n",
    "    \n",
    "    #GET Layer 1\n",
    "    a1=X\n",
    "\n",
    "    #GET Layer 2\n",
    "    a1=addBiasVector(a1)\n",
    "    z2=np.matmul(a1,np.transpose(W1))\n",
    "    a2=sigmoid(z2)\n",
    "\n",
    "    #GET LAYER 3\n",
    "    a2=addBiasVector(a2)\n",
    "    z3=np.matmul(a2,np.transpose(W2))\n",
    "    a3=sigmoid(z3)\n",
    "\n",
    "    \n",
    "    #Layer3 is final Layer   \n",
    "    h=a3\n",
    "    \n",
    "    \n",
    "    cost= np.multiply(hotY,np.log(h)) +   np.multiply((1-hotY) , 1-h)\n",
    "    J=-1/m*np.sum(np.sum(cost))\n",
    "    \n",
    "\n",
    "    # BACKPROPAGATION\n",
    "    #▔▔▔▔▔▔▔▔▔▔▔\n",
    "\n",
    "    #Layer 3\n",
    "    err=np.subtract(h,hotY)\n",
    "    dW2=(1/m)* np.matmul(err.T, a2)\n",
    "  \n",
    "\n",
    "    #Layer 2\n",
    "    err=np.multiply(  np.matmul(err,W2), sigmoidGradient(addBiasVector(z2)))\n",
    "                   \n",
    "    err =  err[:,1:]\n",
    "    dW1=(1/m)*np.matmul(err.T, a1)\n",
    "    \n",
    "    #Layer 1\n",
    "    #Input Layer have no error\n",
    " \n",
    "\n",
    "    \n",
    "    # REGULARIZATION \n",
    "    #▔▔▔▔▔▔▔▔▔▔▔\n",
    "    regularized_W2=np.column_stack((np.zeros((dW2.shape[0],1)), dW2[:,1:]))\n",
    "    regularized_W1=np.column_stack((np.zeros((dW1.shape[0],1)), dW1[:,1:]))\n",
    "   \n",
    "   \n",
    "\n",
    " \n",
    "    dW1 += (float(lambda_reg)/m)*regularized_W1\n",
    "    dW2 += (float(lambda_reg)/m)*regularized_W2\n",
    "   \n",
    "\n",
    "\n",
    "    J = J + ( lambda_reg*(1/(2.0*m))*(np.sum(np.sum(regularized_W1**2))+\n",
    "                                  np.sum(np.sum(regularized_W2**2))) )\n",
    "    \n",
    "    \n",
    "    \n",
    "    # Unroll gradients\n",
    "    grad = np.column_stack((dW1.reshape(1,dW1.size), dW2.reshape(1,dW2.size)))\n",
    "    grad=grad.flatten()\n",
    "\n",
    "    return J, grad"
   ]
  },
  {
   "cell_type": "markdown",
   "metadata": {},
   "source": [
    "<h5> Initialization"
   ]
  },
  {
   "cell_type": "code",
   "execution_count": 13,
   "metadata": {},
   "outputs": [],
   "source": [
    "def randInitializeWeights(L_in, L_out):\n",
    "    epsilon_init = 0.12\n",
    "    W = np.random.rand(L_out, 1 + L_in)*(2*epsilon_init) - epsilon_init\n",
    "    return W"
   ]
  },
  {
   "cell_type": "code",
   "execution_count": 14,
   "metadata": {},
   "outputs": [],
   "source": [
    "input_layer_size  = X.shape[1]  #28*28\n",
    "hidden_layer_size = 25 \n",
    "iterations =20\n",
    "lambda_reg = 0\n",
    "num_labels = 10     \n",
    "initial_W1 = randInitializeWeights(input_layer_size, hidden_layer_size)\n",
    "initial_W2 = randInitializeWeights(hidden_layer_size, num_labels)\n",
    "\n",
    "# Unroll parameters\n",
    "initial_nn_params = np.column_stack((initial_W1.reshape(1,initial_W1.size),\n",
    "                                     initial_W2.reshape(1,initial_W2.size)))\n",
    "initial_nn_params=initial_nn_params.flatten()\n",
    "\n"
   ]
  },
  {
   "cell_type": "markdown",
   "metadata": {},
   "source": [
    "<H5> One Hot Encoding to Y"
   ]
  },
  {
   "cell_type": "code",
   "execution_count": 15,
   "metadata": {},
   "outputs": [
    {
     "name": "stdout",
     "output_type": "stream",
     "text": [
      "hotY= [1. 0. 0. 0. 0. 0. 0. 0. 0. 0.]\n"
     ]
    }
   ],
   "source": [
    "#One Hot Encoding\n",
    "m = len(X)           \n",
    "# set y to be matrix of size m x k\n",
    "hotY = np.zeros((m,num_labels))\n",
    "# for every label, convert it into vector of 0s and a 1 in the appropriate position\n",
    "for i in range(num_labels):\n",
    "    selectedRows=np.where(Y==i)[0]\n",
    "    hotY[selectedRows,i]=1.0 \n",
    "print(\"hotY=\",hotY[21,:])"
   ]
  },
  {
   "cell_type": "markdown",
   "metadata": {},
   "source": [
    "<h5> Gradient Descent Updates"
   ]
  },
  {
   "cell_type": "code",
   "execution_count": 16,
   "metadata": {
    "scrolled": true
   },
   "outputs": [
    {
     "data": {
      "image/png": "[encoded data removed]",
      "text/plain": [
       "<Figure size 432x288 with 1 Axes>"
      ]
     },
     "metadata": {
      "needs_background": "light"
     },
     "output_type": "display_data"
    }
   ],
   "source": [
    "Result = op.minimize(fun =nnCostFunction, \n",
    "                     x0=initial_nn_params, \n",
    "                     args=(input_layer_size, hidden_layer_size, num_labels, X, hotY, lambda_reg), \n",
    "                     options={'disp': True, 'maxiter':iterations}, \n",
    "                     method=\"L-BFGS-B\", jac=True)\n",
    "nn_params = Result.x\n",
    "W1=nn_params[:hidden_layer_size * (input_layer_size + 1)]\n",
    "W2=nn_params[hidden_layer_size * (input_layer_size + 1):]\n",
    "W1.shape = (hidden_layer_size, input_layer_size + 1)\n",
    "W2.shape =  (num_labels, hidden_layer_size + 1)\n",
    "\n",
    "displayImages(W1[:, 1:])\n",
    "plt.show()"
   ]
  },
  {
   "cell_type": "markdown",
   "metadata": {},
   "source": [
    "<h1> Prediction/Accuracy Evaluation"
   ]
  },
  {
   "cell_type": "code",
   "execution_count": 17,
   "metadata": {},
   "outputs": [],
   "source": [
    "def predict(X,nn_params,input_layer_size, hidden_layer_size, num_labels):   \n",
    "    W1=nn_params[:hidden_layer_size * (input_layer_size + 1)]\n",
    "    W1 =W1.reshape((hidden_layer_size, input_layer_size + 1))\n",
    "\n",
    "    W2=nn_params[hidden_layer_size * (input_layer_size + 1):]\n",
    "    W2 = W2.reshape((num_labels, hidden_layer_size + 1))\n",
    "    \n",
    "    #forward Propagation\n",
    "    #▔▔▔▔▔▔▔▔▔▔▔\n",
    "    #GET Layer 1\n",
    "    a1=X\n",
    "\n",
    "    #GET Layer 2\n",
    "    a1=addBiasVector(a1)\n",
    "    z2=np.matmul(a1,np.transpose(W1))\n",
    "    a2=sigmoid(z2)\n",
    "\n",
    "    #GET LAYER 3\n",
    "    a2=addBiasVector(a2)\n",
    "    z3=np.matmul(a2,np.transpose(W2))\n",
    "    a3=sigmoid(z3)\n",
    "\n",
    "    PY=np.argmax(a3,axis=1) \n",
    "    PY=PY.reshape(len(PY),1)\n",
    "    \n",
    "    return PY\n"
   ]
  },
  {
   "cell_type": "code",
   "execution_count": 18,
   "metadata": {},
   "outputs": [],
   "source": [
    "def accurracy(Y1,Y2):\n",
    "    m=np.mean(np.where(Y1==Y2,1,0))    \n",
    "    return m*100"
   ]
  },
  {
   "cell_type": "markdown",
   "metadata": {
    "_uuid": "e631be520dc6c55d57d2ea7a14fba6d70adb5080"
   },
   "source": [
    "<h5>Accurracy on Training Data"
   ]
  },
  {
   "cell_type": "code",
   "execution_count": 19,
   "metadata": {
    "_uuid": "1effd05b2188e6812731c860acf4bfa7d4290022"
   },
   "outputs": [
    {
     "name": "stdout",
     "output_type": "stream",
     "text": [
      "88.12\n"
     ]
    }
   ],
   "source": [
    "pY=predict(X,nn_params,input_layer_size, hidden_layer_size, num_labels) \n",
    "print(accurracy(Y, pY))"
   ]
  },
  {
   "cell_type": "markdown",
   "metadata": {},
   "source": [
    "<h1>Test Image"
   ]
  },
  {
   "cell_type": "markdown",
   "metadata": {},
   "source": [
    "<h2> Image Must match with Training data distribution.</h2>\n",
    "\n",
    "<p>(1) Transformation to grayscale OR read image in grayscale\n",
    " <p>  (2) Resize Image to 20 X 20\n",
    " <p>  (3) Invert Colors if white background\n",
    " <p>  (4) Rescale Image Data Values to Data Values in Training Data  "
   ]
  },
  {
   "cell_type": "code",
   "execution_count": 20,
   "metadata": {},
   "outputs": [],
   "source": [
    "#Read image in Grayscale\n",
    "im = cv2.imread('../input/DigitsDS/DigitsImageTest.bmp',cv2.IMREAD_GRAYSCALE)\n",
    "\n",
    "#Resize\n",
    "im = cv2.resize(im  , (20 , 20))"
   ]
  },
  {
   "cell_type": "markdown",
   "metadata": {},
   "source": [
    "<h2>How to Change Scale of $X[x_{min},x_{max}]$  to  $Y[y_{min},y_{max}]$</h2>\n",
    "\n",
    "<p>Following is method to transforms/distributes values X into range of Y values  \n",
    "    \n",
    "<p>Get Min and Max of $X$\n",
    "<p>$\\hspace{20mm}CurMin=min(X)=x_{min}$\n",
    "<p>$\\hspace{20mm}CurMax=max(X)=x_{max}$\n",
    "\n",
    "<p>But New Max and Min should be as per the $Y$\n",
    "\n",
    "<p>$\\hspace{20mm}NewMin=min(Y)=y_{min}$\n",
    "<p>$\\hspace{20mm}NewMax=max(Y)=y_{max}$\n",
    "\n",
    "<p>$f(X)=y_{min} + (\\dfrac{X - x_{min}}{x_{max} - x_{min}})  * (y_{max}-y_{min})$\n",
    "     \n"
   ]
  },
  {
   "cell_type": "code",
   "execution_count": 21,
   "metadata": {},
   "outputs": [],
   "source": [
    "testX=im.T.reshape(1,20*20)\n",
    "testX=np.abs(testX-255.0)\n",
    "#Cur Min Max\n",
    "CurMin=np.min(testX)\n",
    "CurMax=np.max(testX)\n",
    "#Training Data New Min Max\n",
    "NewMin=np.min(X)   #-0.1319632301985249\n",
    "NewMax=np.max(X)   #1.127688299158888\n",
    "testX  =NewMin+ ((testX -CurMin)/(CurMax-CurMin)) * ((NewMax-NewMin))"
   ]
  },
  {
   "cell_type": "code",
   "execution_count": 22,
   "metadata": {},
   "outputs": [
    {
     "data": {
      "image/png": "[encoded data removed]",
      "text/plain": [
       "<Figure size 432x288 with 1 Axes>"
      ]
     },
     "metadata": {
      "needs_background": "light"
     },
     "output_type": "display_data"
    }
   ],
   "source": [
    "plt.axis('off')\n",
    "plt.imshow(testX.reshape(20,20).T)\n",
    "plt.show()"
   ]
  },
  {
   "cell_type": "code",
   "execution_count": 23,
   "metadata": {},
   "outputs": [
    {
     "name": "stdout",
     "output_type": "stream",
     "text": [
      "[[2]]\n"
     ]
    }
   ],
   "source": [
    "pY=predict(testX,nn_params,input_layer_size, hidden_layer_size, num_labels) \n",
    "print(pY)"
   ]
  },
  {
   "cell_type": "code",
   "execution_count": null,
   "metadata": {},
   "outputs": [],
   "source": []
  }
 ],
 "metadata": {
  "kernelspec": {
   "display_name": "Python 3",
   "language": "python",
   "name": "python3"
  },
  "language_info": {
   "codemirror_mode": {
    "name": "ipython",
    "version": 3
   },
   "file_extension": ".py",
   "mimetype": "text/x-python",
   "name": "python",
   "nbconvert_exporter": "python",
   "pygments_lexer": "ipython3",
   "version": "3.7.3"
  }
 },
 "nbformat": 4,
 "nbformat_minor": 1
}
