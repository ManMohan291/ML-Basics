{
 "cells": [
  {
   "cell_type": "markdown",
   "metadata": {
    "_uuid": "fbb83ab53f187857890b7bcd2a13603b7586651e"
   },
   "source": [
    "# GUI Window using tkinter"
   ]
  },
  {
   "cell_type": "code",
   "execution_count": 1,
   "metadata": {
    "_cell_guid": "b1076dfc-b9ad-4769-8c92-a6c4dae69d19",
    "_uuid": "8f2839f25d086af736a60e9eeb907d3b93b6e0e5"
   },
   "outputs": [],
   "source": [
    "import tkinter as tk  \n",
    "from tkinter import ttk\n",
    "from tkinter import messagebox"
   ]
  },
  {
   "cell_type": "markdown",
   "metadata": {
    "_cell_guid": "b1076dfc-b9ad-4769-8c92-a6c4dae69d19",
    "_uuid": "8f2839f25d086af736a60e9eeb907d3b93b6e0e5"
   },
   "source": [
    "# Background Events"
   ]
  },
  {
   "cell_type": "code",
   "execution_count": 2,
   "metadata": {
    "_cell_guid": "b1076dfc-b9ad-4769-8c92-a6c4dae69d19",
    "_uuid": "8f2839f25d086af736a60e9eeb907d3b93b6e0e5"
   },
   "outputs": [],
   "source": [
    "def btnOK_click():\n",
    "    lblLoginId.configure(foreground='red')\n",
    "    messagebox.showinfo(\"Error\", \"Invalid Login \\n Server:\"+gServerName.get() +\"\\n Login ID:\"+gLoginId.get()+\"\\n SQL Mode:\"+str(gServerType.get())+\"\\n Remember Me:\"+str(gRememberMe.get())+\"\\n Remember Password:\"+str(gRememberPassword.get()) )\n",
    "\n",
    "\n",
    "    return\n",
    "def btnCancel_click():\n",
    "    result=messagebox.askyesno(\"Quit\", \"Quit??\")\n",
    "    if(result==True):\n",
    "        frmMain.quit()\n",
    "\n",
    "    return\n"
   ]
  },
  {
   "cell_type": "markdown",
   "metadata": {
    "_cell_guid": "b1076dfc-b9ad-4769-8c92-a6c4dae69d19",
    "_uuid": "8f2839f25d086af736a60e9eeb907d3b93b6e0e5"
   },
   "source": [
    "# WinForm Initialize"
   ]
  },
  {
   "cell_type": "code",
   "execution_count": 3,
   "metadata": {
    "_cell_guid": "b1076dfc-b9ad-4769-8c92-a6c4dae69d19",
    "_uuid": "8f2839f25d086af736a60e9eeb907d3b93b6e0e5"
   },
   "outputs": [
    {
     "data": {
      "text/plain": [
       "''"
      ]
     },
     "execution_count": 3,
     "metadata": {},
     "output_type": "execute_result"
    }
   ],
   "source": [
    "frmMain=tk.Tk()\n",
    "frmMain.title(\"Application Title\")\n",
    "frmMain.geometry(\"500x500\")"
   ]
  },
  {
   "cell_type": "markdown",
   "metadata": {},
   "source": [
    "# Screen Design"
   ]
  },
  {
   "cell_type": "markdown",
   "metadata": {
    "_cell_guid": "b1076dfc-b9ad-4769-8c92-a6c4dae69d19",
    "_uuid": "8f2839f25d086af736a60e9eeb907d3b93b6e0e5"
   },
   "source": [
    "## Variables to Input Box"
   ]
  },
  {
   "cell_type": "code",
   "execution_count": 4,
   "metadata": {
    "_cell_guid": "b1076dfc-b9ad-4769-8c92-a6c4dae69d19",
    "_uuid": "8f2839f25d086af736a60e9eeb907d3b93b6e0e5"
   },
   "outputs": [],
   "source": [
    "gLoginId=tk.StringVar()\n",
    "gServerName=tk.StringVar()\n",
    "gServerType=tk.IntVar()\n",
    "gRememberMe=tk.BooleanVar()\n",
    "gRememberPassword=tk.BooleanVar()"
   ]
  },
  {
   "cell_type": "markdown",
   "metadata": {
    "_cell_guid": "b1076dfc-b9ad-4769-8c92-a6c4dae69d19",
    "_uuid": "8f2839f25d086af736a60e9eeb907d3b93b6e0e5"
   },
   "source": [
    "## Frame Initialize"
   ]
  },
  {
   "cell_type": "code",
   "execution_count": 5,
   "metadata": {
    "_cell_guid": "b1076dfc-b9ad-4769-8c92-a6c4dae69d19",
    "_uuid": "8f2839f25d086af736a60e9eeb907d3b93b6e0e5"
   },
   "outputs": [],
   "source": [
    "frameTop=tk.LabelFrame(frmMain,text=\"Enter Login Details\",width=500,height=100)\n",
    "frameTop.grid(row=0,column=1,sticky=(tk.N, tk.S, tk.W, tk.E))\n",
    "\n",
    "frameBottom=tk.LabelFrame(frmMain,text=\"\")\n",
    "frameBottom.grid(row=2,column=1,sticky=(tk.N, tk.S, tk.W, tk.E))"
   ]
  },
  {
   "cell_type": "markdown",
   "metadata": {
    "_cell_guid": "b1076dfc-b9ad-4769-8c92-a6c4dae69d19",
    "_uuid": "8f2839f25d086af736a60e9eeb907d3b93b6e0e5"
   },
   "source": [
    "## Label Initialize"
   ]
  },
  {
   "cell_type": "code",
   "execution_count": 6,
   "metadata": {
    "_cell_guid": "b1076dfc-b9ad-4769-8c92-a6c4dae69d19",
    "_uuid": "8f2839f25d086af736a60e9eeb907d3b93b6e0e5"
   },
   "outputs": [],
   "source": [
    "lblLoginId=tk.Label(frameTop,text=\"Login Id:\")\n",
    "lblLoginId.grid(row=0,column=0,sticky=tk.E)"
   ]
  },
  {
   "cell_type": "markdown",
   "metadata": {
    "_cell_guid": "b1076dfc-b9ad-4769-8c92-a6c4dae69d19",
    "_uuid": "8f2839f25d086af736a60e9eeb907d3b93b6e0e5"
   },
   "source": [
    "## TextBox Initialize"
   ]
  },
  {
   "cell_type": "code",
   "execution_count": 7,
   "metadata": {
    "_cell_guid": "b1076dfc-b9ad-4769-8c92-a6c4dae69d19",
    "_uuid": "8f2839f25d086af736a60e9eeb907d3b93b6e0e5"
   },
   "outputs": [],
   "source": [
    "txtLoginId=tk.Entry(frameTop,textvariable=gLoginId)\n",
    "txtLoginId.grid(row=0,column=1,sticky=tk.W)"
   ]
  },
  {
   "cell_type": "markdown",
   "metadata": {
    "_cell_guid": "b1076dfc-b9ad-4769-8c92-a6c4dae69d19",
    "_uuid": "8f2839f25d086af736a60e9eeb907d3b93b6e0e5"
   },
   "source": [
    "## ComboBox Initialize"
   ]
  },
  {
   "cell_type": "code",
   "execution_count": 8,
   "metadata": {
    "_cell_guid": "b1076dfc-b9ad-4769-8c92-a6c4dae69d19",
    "_uuid": "8f2839f25d086af736a60e9eeb907d3b93b6e0e5"
   },
   "outputs": [],
   "source": [
    "lblServer=tk.Label(frameTop,text=\"Server IP:\")\n",
    "lblServer.grid(row=1,column=0,sticky=tk.E)\n",
    "\n",
    "cboServer=ttk.Combobox(frameTop,textvariable=gServerName)\n",
    "cboServer['values']=['192.168.10.133','10.26.78.96']\n",
    "cboServer.grid(row=1,column=1,sticky=tk.W)"
   ]
  },
  {
   "cell_type": "markdown",
   "metadata": {
    "_cell_guid": "b1076dfc-b9ad-4769-8c92-a6c4dae69d19",
    "_uuid": "8f2839f25d086af736a60e9eeb907d3b93b6e0e5"
   },
   "source": [
    "## Option/Radio Buttion"
   ]
  },
  {
   "cell_type": "code",
   "execution_count": 9,
   "metadata": {
    "_cell_guid": "b1076dfc-b9ad-4769-8c92-a6c4dae69d19",
    "_uuid": "8f2839f25d086af736a60e9eeb907d3b93b6e0e5"
   },
   "outputs": [],
   "source": [
    "radMySQL=tk.Radiobutton(frameTop,text=\"MySQL Server\",variable=gServerType,value=11)\n",
    "radSQLServer=tk.Radiobutton(frameTop,text=\"MS SQL Server\",variable=gServerType,value=22)\n",
    "radMySQL.grid(row=2,column=1,sticky=tk.W)\n",
    "radSQLServer.grid(row=3,column=1,sticky=tk.W)"
   ]
  },
  {
   "cell_type": "markdown",
   "metadata": {
    "_cell_guid": "b1076dfc-b9ad-4769-8c92-a6c4dae69d19",
    "_uuid": "8f2839f25d086af736a60e9eeb907d3b93b6e0e5"
   },
   "source": [
    "## CheckBox Buttion"
   ]
  },
  {
   "cell_type": "code",
   "execution_count": 10,
   "metadata": {
    "_cell_guid": "b1076dfc-b9ad-4769-8c92-a6c4dae69d19",
    "_uuid": "8f2839f25d086af736a60e9eeb907d3b93b6e0e5"
   },
   "outputs": [],
   "source": [
    "chkRememberMe=tk.Checkbutton(frameTop,text=\"Remember Me\",variable=gRememberMe)\n",
    "chkRememberMe.select()\n",
    "chkRememberPassword=tk.Checkbutton(frameTop,text=\"Remember Password\",variable=gRememberPassword,state=\"disabled\")\n",
    "chkRememberPassword.deselect()\n",
    "chkRememberMe.grid(row=4,column=0,sticky=tk.E)\n",
    "chkRememberPassword.grid(row=4,column=1,sticky=tk.W)"
   ]
  },
  {
   "cell_type": "markdown",
   "metadata": {
    "_cell_guid": "b1076dfc-b9ad-4769-8c92-a6c4dae69d19",
    "_uuid": "8f2839f25d086af736a60e9eeb907d3b93b6e0e5"
   },
   "source": [
    "## Button Initialize"
   ]
  },
  {
   "cell_type": "code",
   "execution_count": 11,
   "metadata": {
    "_cell_guid": "b1076dfc-b9ad-4769-8c92-a6c4dae69d19",
    "_uuid": "8f2839f25d086af736a60e9eeb907d3b93b6e0e5"
   },
   "outputs": [],
   "source": [
    "btnOK=tk.Button(frameBottom,text=\"OK\",command=btnOK_click)\n",
    "btnOK.grid(row=0,column=0,sticky=tk.E)\n",
    "btnCancel=tk.Button(frameBottom,text=\"Cancel\",command=btnCancel_click)\n",
    "btnCancel.grid(row=0,column=1,sticky=tk.W)"
   ]
  },
  {
   "cell_type": "markdown",
   "metadata": {
    "_cell_guid": "b1076dfc-b9ad-4769-8c92-a6c4dae69d19",
    "_uuid": "8f2839f25d086af736a60e9eeb907d3b93b6e0e5"
   },
   "source": [
    "# Show Window"
   ]
  },
  {
   "cell_type": "code",
   "execution_count": 12,
   "metadata": {
    "_cell_guid": "b1076dfc-b9ad-4769-8c92-a6c4dae69d19",
    "_uuid": "8f2839f25d086af736a60e9eeb907d3b93b6e0e5"
   },
   "outputs": [],
   "source": [
    "frmMain.width=300\n",
    "frmMain.height=300\n",
    "frmMain.mainloop()"
   ]
  },
  {
   "cell_type": "code",
   "execution_count": null,
   "metadata": {},
   "outputs": [],
   "source": []
  }
 ],
 "metadata": {
  "kernelspec": {
   "display_name": "Python 3",
   "language": "python",
   "name": "python3"
  },
  "language_info": {
   "codemirror_mode": {
    "name": "ipython",
    "version": 3
   },
   "file_extension": ".py",
   "mimetype": "text/x-python",
   "name": "python",
   "nbconvert_exporter": "python",
   "pygments_lexer": "ipython3",
   "version": "3.7.3"
  }
 },
 "nbformat": 4,
 "nbformat_minor": 1
}
