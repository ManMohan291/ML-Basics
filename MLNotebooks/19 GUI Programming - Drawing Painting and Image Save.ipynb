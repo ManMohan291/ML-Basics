{
 "cells": [
  {
   "cell_type": "markdown",
   "metadata": {},
   "source": [
    "# GUI Programming - Drawing Painting and Image Save"
   ]
  },
  {
   "cell_type": "code",
   "execution_count": 1,
   "metadata": {},
   "outputs": [],
   "source": [
    "from tkinter import *\n",
    "from PIL import Image\n"
   ]
  },
  {
   "cell_type": "markdown",
   "metadata": {},
   "source": [
    "# Initialize"
   ]
  },
  {
   "cell_type": "code",
   "execution_count": 2,
   "metadata": {},
   "outputs": [],
   "source": [
    "W = 500\n",
    "H = 250\n",
    "brush=10"
   ]
  },
  {
   "cell_type": "markdown",
   "metadata": {},
   "source": [
    "# Paint Event"
   ]
  },
  {
   "cell_type": "code",
   "execution_count": 3,
   "metadata": {},
   "outputs": [],
   "source": [
    "def paint(event):\n",
    "    python_green = \"#000000\"\n",
    "    x1, y1 = ( event.x - brush ), ( event.y - brush )\n",
    "    x2, y2 = ( event.x + brush ), ( event.y + brush )\n",
    "    w.create_oval( x1, y1, x2, y2, fill = python_green )\n",
    "    return"
   ]
  },
  {
   "cell_type": "markdown",
   "metadata": {},
   "source": [
    "# Form Close Event"
   ]
  },
  {
   "cell_type": "code",
   "execution_count": 4,
   "metadata": {},
   "outputs": [],
   "source": [
    "def btnSave_click():\n",
    "    # save postscipt image \n",
    "    w.postscript(file = 'test.eps') \n",
    "    # use PIL to convert to PNG \n",
    "    img = Image.open( 'test.eps') \n",
    "    img.save('test.jpg', 'jpg')     \n",
    "    frmMain.quit()\n",
    "    return\n",
    "   "
   ]
  },
  {
   "cell_type": "markdown",
   "metadata": {},
   "source": [
    "# Form"
   ]
  },
  {
   "cell_type": "code",
   "execution_count": 5,
   "metadata": {},
   "outputs": [
    {
     "data": {
      "text/plain": [
       "''"
      ]
     },
     "execution_count": 5,
     "metadata": {},
     "output_type": "execute_result"
    }
   ],
   "source": [
    "master = Tk()\n",
    "master.title( \"Painting using Ovals\" )"
   ]
  },
  {
   "cell_type": "markdown",
   "metadata": {},
   "source": [
    "# Canvas"
   ]
  },
  {
   "cell_type": "code",
   "execution_count": 6,
   "metadata": {},
   "outputs": [
    {
     "data": {
      "text/plain": [
       "'2927311952840paint'"
      ]
     },
     "execution_count": 6,
     "metadata": {},
     "output_type": "execute_result"
    }
   ],
   "source": [
    "w =Canvas(master, width=W, height=H)\n",
    "w.pack(expand = YES, fill = BOTH)\n",
    "w.bind( \"<B1-Motion>\", paint )"
   ]
  },
  {
   "cell_type": "markdown",
   "metadata": {},
   "source": [
    "# Controls and Labels"
   ]
  },
  {
   "cell_type": "code",
   "execution_count": 7,
   "metadata": {},
   "outputs": [],
   "source": [
    "message = Button( master, text = \"Save & Close\",command=btnSave_click )\n",
    "message.pack( side = BOTTOM )  "
   ]
  },
  {
   "cell_type": "markdown",
   "metadata": {},
   "source": [
    "# Run Program"
   ]
  },
  {
   "cell_type": "code",
   "execution_count": 8,
   "metadata": {},
   "outputs": [
    {
     "name": "stderr",
     "output_type": "stream",
     "text": [
      "Exception in Tkinter callback\n",
      "Traceback (most recent call last):\n",
      "  File \"C:\\ProgramData\\Anaconda3\\lib\\tkinter\\__init__.py\", line 1705, in __call__\n",
      "    return self.func(*args)\n",
      "  File \"<ipython-input-4-0ec795244804>\", line 6, in btnSave_click\n",
      "    img.save('test.jpg', 'jpg')\n",
      "  File \"C:\\ProgramData\\Anaconda3\\lib\\site-packages\\PIL\\Image.py\", line 1960, in save\n",
      "    self.load()\n",
      "  File \"C:\\ProgramData\\Anaconda3\\lib\\site-packages\\PIL\\EpsImagePlugin.py\", line 333, in load\n",
      "    self.im = Ghostscript(self.tile, self.size, self.fp, scale)\n",
      "  File \"C:\\ProgramData\\Anaconda3\\lib\\site-packages\\PIL\\EpsImagePlugin.py\", line 137, in Ghostscript\n",
      "    raise WindowsError('Unable to locate Ghostscript on paths')\n",
      "OSError: Unable to locate Ghostscript on paths\n"
     ]
    }
   ],
   "source": [
    "mainloop()"
   ]
  },
  {
   "cell_type": "code",
   "execution_count": null,
   "metadata": {},
   "outputs": [],
   "source": []
  }
 ],
 "metadata": {
  "kernelspec": {
   "display_name": "Python 3",
   "language": "python",
   "name": "python3"
  },
  "language_info": {
   "codemirror_mode": {
    "name": "ipython",
    "version": 3
   },
   "file_extension": ".py",
   "mimetype": "text/x-python",
   "name": "python",
   "nbconvert_exporter": "python",
   "pygments_lexer": "ipython3",
   "version": "3.7.3"
  }
 },
 "nbformat": 4,
 "nbformat_minor": 2
}
