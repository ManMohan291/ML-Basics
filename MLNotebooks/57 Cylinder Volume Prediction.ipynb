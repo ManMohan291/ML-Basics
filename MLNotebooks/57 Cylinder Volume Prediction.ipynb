{
 "cells": [
  {
   "cell_type": "markdown",
   "metadata": {
    "_uuid": "6c95590882b8eb98a3286b0bafaa2409ce7e19e9"
   },
   "source": [
    "<h1>Cylinder Volume Prediction</h1>\n",
    "<p> As a chanllage we gernerated Training data with some radius and height using formula \n",
    "    $volume=\\pi r^2 h$   where r is radius and h is height. Now we will train using either algo and will try to predict new data."
   ]
  },
  {
   "cell_type": "code",
   "execution_count": 62,
   "metadata": {
    "_uuid": "4f7296ca4e4da035e23fbc4228b9c4eb06bc4726"
   },
   "outputs": [
    {
     "name": "stdout",
     "output_type": "stream",
     "text": [
      "1.13.0-rc1\n"
     ]
    }
   ],
   "source": [
    "import tensorflow as tf\n",
    "import pandas as pd\n",
    "import numpy as np\n",
    "import matplotlib.pyplot as plt\n",
    "import shutil\n",
    "tf.logging.set_verbosity(tf.logging.ERROR)\n",
    "print(tf.__version__)"
   ]
  },
  {
   "cell_type": "markdown",
   "metadata": {
    "_uuid": "c96dbaeed3a146768479f0f20c19ada49d685e1a"
   },
   "source": [
    "<h2>Read data</h2>"
   ]
  },
  {
   "cell_type": "code",
   "execution_count": 63,
   "metadata": {
    "_uuid": "d0fb8cc54c6b72cfcb5b9e919820da01d5183828"
   },
   "outputs": [],
   "source": [
    "df = pd.read_csv('../input/CylinderVolumeDS.csv')"
   ]
  },
  {
   "cell_type": "markdown",
   "metadata": {
    "_uuid": "648503da4df316d746467a381c534e97ce6278e8"
   },
   "source": [
    "<H1>Add Cross Features"
   ]
  },
  {
   "cell_type": "code",
   "execution_count": 64,
   "metadata": {
    "_uuid": "d1ffe339ce010db6b4fbd3d9b2ad44f3c388388d"
   },
   "outputs": [],
   "source": [
    "df=df[df['radius']>0]\n",
    "df=df[df['height']>0]\n",
    "df['rh'] = df['radius'] * df['height'] \n",
    "df['r2h'] = df['radius']*df['radius'] * df['height'] \n",
    "df['rh2'] = df['radius'] * df['height'] * df['height'] \n",
    "df['r3'] = df['radius'] * df['radius'] * df['radius'] \n",
    "df['h3'] = df['height'] * df['height'] * df['height'] \n",
    "    \n",
    "    "
   ]
  },
  {
   "cell_type": "markdown",
   "metadata": {
    "_uuid": "e220ddb8c21c8d21259f31bb5ea6123ed6637115"
   },
   "source": [
    "<h1>Divide Dataset into Training and Validation"
   ]
  },
  {
   "cell_type": "code",
   "execution_count": 65,
   "metadata": {
    "_uuid": "ca95a4f35609584956b26b4568b023c53a9a2044"
   },
   "outputs": [],
   "source": [
    "np.random.seed(seed=1) #makes result reproducible\n",
    "msk = np.random.rand(len(df)) < 0.02\n",
    "df_train = df[msk]\n",
    "\n",
    "df_valid_n_test = df[~msk]\n",
    "\n",
    "msk2 = np.random.rand(len(df_valid_n_test)) < 0.02\n",
    "df_valid = df_valid_n_test[msk2]\n",
    "\n",
    "\n",
    "df_test = df_valid_n_test[~msk2]\n",
    "msk3 = np.random.rand(len(df_test)) < 0.02\n",
    "df_test = df_test[msk3]\n"
   ]
  },
  {
   "cell_type": "code",
   "execution_count": 66,
   "metadata": {
    "_uuid": "a1952ac7557369a12303e9a4bc53038d05ded42f"
   },
   "outputs": [
    {
     "data": {
      "text/html": [
       "<div>\n",
       "<style scoped>\n",
       "    .dataframe tbody tr th:only-of-type {\n",
       "        vertical-align: middle;\n",
       "    }\n",
       "\n",
       "    .dataframe tbody tr th {\n",
       "        vertical-align: top;\n",
       "    }\n",
       "\n",
       "    .dataframe thead th {\n",
       "        text-align: right;\n",
       "    }\n",
       "</style>\n",
       "<table border=\"1\" class=\"dataframe\">\n",
       "  <thead>\n",
       "    <tr style=\"text-align: right;\">\n",
       "      <th></th>\n",
       "      <th>rowid</th>\n",
       "      <th>radius</th>\n",
       "      <th>height</th>\n",
       "      <th>volume</th>\n",
       "      <th>rh</th>\n",
       "      <th>r2h</th>\n",
       "      <th>rh2</th>\n",
       "      <th>r3</th>\n",
       "      <th>h3</th>\n",
       "    </tr>\n",
       "  </thead>\n",
       "  <tbody>\n",
       "    <tr>\n",
       "      <th>102</th>\n",
       "      <td>103</td>\n",
       "      <td>1.5</td>\n",
       "      <td>0.5</td>\n",
       "      <td>3.534292</td>\n",
       "      <td>0.75</td>\n",
       "      <td>1.125</td>\n",
       "      <td>0.375</td>\n",
       "      <td>3.375</td>\n",
       "      <td>0.125</td>\n",
       "    </tr>\n",
       "    <tr>\n",
       "      <th>138</th>\n",
       "      <td>139</td>\n",
       "      <td>19.5</td>\n",
       "      <td>0.5</td>\n",
       "      <td>597.295303</td>\n",
       "      <td>9.75</td>\n",
       "      <td>190.125</td>\n",
       "      <td>4.875</td>\n",
       "      <td>7414.875</td>\n",
       "      <td>0.125</td>\n",
       "    </tr>\n",
       "    <tr>\n",
       "      <th>150</th>\n",
       "      <td>151</td>\n",
       "      <td>25.5</td>\n",
       "      <td>0.5</td>\n",
       "      <td>1021.410311</td>\n",
       "      <td>12.75</td>\n",
       "      <td>325.125</td>\n",
       "      <td>6.375</td>\n",
       "      <td>16581.375</td>\n",
       "      <td>0.125</td>\n",
       "    </tr>\n",
       "    <tr>\n",
       "      <th>198</th>\n",
       "      <td>199</td>\n",
       "      <td>49.5</td>\n",
       "      <td>0.5</td>\n",
       "      <td>3848.843700</td>\n",
       "      <td>24.75</td>\n",
       "      <td>1225.125</td>\n",
       "      <td>12.375</td>\n",
       "      <td>121287.375</td>\n",
       "      <td>0.125</td>\n",
       "    </tr>\n",
       "    <tr>\n",
       "      <th>207</th>\n",
       "      <td>208</td>\n",
       "      <td>4.0</td>\n",
       "      <td>1.0</td>\n",
       "      <td>50.265482</td>\n",
       "      <td>4.00</td>\n",
       "      <td>16.000</td>\n",
       "      <td>4.000</td>\n",
       "      <td>64.000</td>\n",
       "      <td>1.000</td>\n",
       "    </tr>\n",
       "  </tbody>\n",
       "</table>\n",
       "</div>"
      ],
      "text/plain": [
       "     rowid  radius  height       volume     rh       r2h     rh2          r3  \\\n",
       "102    103     1.5     0.5     3.534292   0.75     1.125   0.375       3.375   \n",
       "138    139    19.5     0.5   597.295303   9.75   190.125   4.875    7414.875   \n",
       "150    151    25.5     0.5  1021.410311  12.75   325.125   6.375   16581.375   \n",
       "198    199    49.5     0.5  3848.843700  24.75  1225.125  12.375  121287.375   \n",
       "207    208     4.0     1.0    50.265482   4.00    16.000   4.000      64.000   \n",
       "\n",
       "        h3  \n",
       "102  0.125  \n",
       "138  0.125  \n",
       "150  0.125  \n",
       "198  0.125  \n",
       "207  1.000  "
      ]
     },
     "execution_count": 66,
     "metadata": {},
     "output_type": "execute_result"
    }
   ],
   "source": [
    "df_train.head()"
   ]
  },
  {
   "cell_type": "code",
   "execution_count": 67,
   "metadata": {
    "_uuid": "5c678db541b81918a761cdee5a09df40d0826f92"
   },
   "outputs": [
    {
     "data": {
      "text/html": [
       "<div>\n",
       "<style scoped>\n",
       "    .dataframe tbody tr th:only-of-type {\n",
       "        vertical-align: middle;\n",
       "    }\n",
       "\n",
       "    .dataframe tbody tr th {\n",
       "        vertical-align: top;\n",
       "    }\n",
       "\n",
       "    .dataframe thead th {\n",
       "        text-align: right;\n",
       "    }\n",
       "</style>\n",
       "<table border=\"1\" class=\"dataframe\">\n",
       "  <thead>\n",
       "    <tr style=\"text-align: right;\">\n",
       "      <th></th>\n",
       "      <th>rowid</th>\n",
       "      <th>radius</th>\n",
       "      <th>height</th>\n",
       "      <th>volume</th>\n",
       "      <th>rh</th>\n",
       "      <th>r2h</th>\n",
       "      <th>rh2</th>\n",
       "      <th>r3</th>\n",
       "      <th>h3</th>\n",
       "    </tr>\n",
       "  </thead>\n",
       "  <tbody>\n",
       "    <tr>\n",
       "      <th>132</th>\n",
       "      <td>133</td>\n",
       "      <td>16.5</td>\n",
       "      <td>0.5</td>\n",
       "      <td>427.649300</td>\n",
       "      <td>8.25</td>\n",
       "      <td>136.125</td>\n",
       "      <td>4.125</td>\n",
       "      <td>4492.125</td>\n",
       "      <td>0.125</td>\n",
       "    </tr>\n",
       "    <tr>\n",
       "      <th>142</th>\n",
       "      <td>143</td>\n",
       "      <td>21.5</td>\n",
       "      <td>0.5</td>\n",
       "      <td>726.100602</td>\n",
       "      <td>10.75</td>\n",
       "      <td>231.125</td>\n",
       "      <td>5.375</td>\n",
       "      <td>9938.375</td>\n",
       "      <td>0.125</td>\n",
       "    </tr>\n",
       "    <tr>\n",
       "      <th>158</th>\n",
       "      <td>159</td>\n",
       "      <td>29.5</td>\n",
       "      <td>0.5</td>\n",
       "      <td>1366.985503</td>\n",
       "      <td>14.75</td>\n",
       "      <td>435.125</td>\n",
       "      <td>7.375</td>\n",
       "      <td>25672.375</td>\n",
       "      <td>0.125</td>\n",
       "    </tr>\n",
       "    <tr>\n",
       "      <th>217</th>\n",
       "      <td>218</td>\n",
       "      <td>9.0</td>\n",
       "      <td>1.0</td>\n",
       "      <td>254.469005</td>\n",
       "      <td>9.00</td>\n",
       "      <td>81.000</td>\n",
       "      <td>9.000</td>\n",
       "      <td>729.000</td>\n",
       "      <td>1.000</td>\n",
       "    </tr>\n",
       "    <tr>\n",
       "      <th>233</th>\n",
       "      <td>234</td>\n",
       "      <td>17.0</td>\n",
       "      <td>1.0</td>\n",
       "      <td>907.920277</td>\n",
       "      <td>17.00</td>\n",
       "      <td>289.000</td>\n",
       "      <td>17.000</td>\n",
       "      <td>4913.000</td>\n",
       "      <td>1.000</td>\n",
       "    </tr>\n",
       "  </tbody>\n",
       "</table>\n",
       "</div>"
      ],
      "text/plain": [
       "     rowid  radius  height       volume     rh      r2h     rh2         r3  \\\n",
       "132    133    16.5     0.5   427.649300   8.25  136.125   4.125   4492.125   \n",
       "142    143    21.5     0.5   726.100602  10.75  231.125   5.375   9938.375   \n",
       "158    159    29.5     0.5  1366.985503  14.75  435.125   7.375  25672.375   \n",
       "217    218     9.0     1.0   254.469005   9.00   81.000   9.000    729.000   \n",
       "233    234    17.0     1.0   907.920277  17.00  289.000  17.000   4913.000   \n",
       "\n",
       "        h3  \n",
       "132  0.125  \n",
       "142  0.125  \n",
       "158  0.125  \n",
       "217  1.000  \n",
       "233  1.000  "
      ]
     },
     "execution_count": 67,
     "metadata": {},
     "output_type": "execute_result"
    }
   ],
   "source": [
    "df_test.head()"
   ]
  },
  {
   "cell_type": "markdown",
   "metadata": {
    "_uuid": "f321c7b58012ccf60dd49adea803c9062bc25959"
   },
   "source": [
    "<h2>Input Read data to Tensors</h2>"
   ]
  },
  {
   "cell_type": "code",
   "execution_count": 68,
   "metadata": {
    "_uuid": "53fb9e90075dc6b0c87867a029049e1e89264f16"
   },
   "outputs": [],
   "source": [
    "tf_feature_columns = [tf.feature_column.numeric_column('radius'),\n",
    "                      tf.feature_column.numeric_column('height'),\n",
    "                      tf.feature_column.numeric_column('rh'),\n",
    "                     tf.feature_column.numeric_column('r2h'),\n",
    "                     tf.feature_column.numeric_column('rh2'),\n",
    "                     tf.feature_column.numeric_column('r3'),\n",
    "                     tf.feature_column.numeric_column('h3')]\n",
    "tf_input_train=tf.estimator.inputs.pandas_input_fn(x = df_train,\n",
    "                                                   y = df_train['volume'],\n",
    "                                                   batch_size=1000,\n",
    "                                                   shuffle = True,\n",
    "                                                  num_epochs=500)\n",
    "tf_input_valid=tf.estimator.inputs.pandas_input_fn(x = df_valid,\n",
    "                                                   y = df_valid['volume'],\n",
    "                                                   shuffle = False)\n",
    "tf_input_test=tf.estimator.inputs.pandas_input_fn(x = df_test,\n",
    "                                                   y = None,    \n",
    "                                                   shuffle = False)\n"
   ]
  },
  {
   "cell_type": "markdown",
   "metadata": {
    "_uuid": "0e42d5a8a6044fecde704e199d4da7e7eb26716f"
   },
   "source": [
    "<h2>Training - Linear Regressor</h2>"
   ]
  },
  {
   "cell_type": "code",
   "execution_count": 69,
   "metadata": {
    "_uuid": "13032b51e6e5aa3e1fd0ac4817ba026b27694342"
   },
   "outputs": [
    {
     "data": {
      "text/plain": [
       "<tensorflow_estimator.python.estimator.canned.dnn.DNNRegressor at 0x1704ead14a8>"
      ]
     },
     "execution_count": 69,
     "metadata": {},
     "output_type": "execute_result"
    }
   ],
   "source": [
    "model = tf.estimator.DNNRegressor(hidden_units = [20,16, 8,3],\n",
    "                                 feature_columns = tf_feature_columns)\n",
    "#model = tf.estimator.LinearRegressor(feature_columns = tf_feature_columns, optimizer=tf.train.FtrlOptimizer(                          learning_rate=7000000,                                        l1_regularization_strength=0.00001                                    )                                    )\n",
    "model.train(input_fn =tf_input_train)"
   ]
  },
  {
   "cell_type": "markdown",
   "metadata": {
    "_uuid": "3d56584332a29b8dcb5d6ad4e3c70166b886c5fc"
   },
   "source": [
    "<h2>Evaluating - Linear Regressor Model</h2>"
   ]
  },
  {
   "cell_type": "code",
   "execution_count": 70,
   "metadata": {
    "_uuid": "770dbbd531de8f0dc7d8a471c0adf6e9d22a3bdf"
   },
   "outputs": [
    {
     "name": "stdout",
     "output_type": "stream",
     "text": [
      "RMSE on dataset = 97293.6328125\n"
     ]
    }
   ],
   "source": [
    "metrics = model.evaluate(input_fn = tf_input_valid)\n",
    "print('RMSE on dataset = {}'.format(np.sqrt(metrics['average_loss'])))"
   ]
  },
  {
   "cell_type": "markdown",
   "metadata": {
    "_uuid": "173d9151d2a4f162ecc54617487ada00704087c5"
   },
   "source": [
    "<h2>Predicting - Linear Regressor Model</h2>"
   ]
  },
  {
   "cell_type": "code",
   "execution_count": 71,
   "metadata": {
    "_uuid": "2ce47727537df1d62230838a2b2c3d1c6a53662c"
   },
   "outputs": [
    {
     "data": {
      "text/html": [
       "<div>\n",
       "<style scoped>\n",
       "    .dataframe tbody tr th:only-of-type {\n",
       "        vertical-align: middle;\n",
       "    }\n",
       "\n",
       "    .dataframe tbody tr th {\n",
       "        vertical-align: top;\n",
       "    }\n",
       "\n",
       "    .dataframe thead th {\n",
       "        text-align: right;\n",
       "    }\n",
       "</style>\n",
       "<table border=\"1\" class=\"dataframe\">\n",
       "  <thead>\n",
       "    <tr style=\"text-align: right;\">\n",
       "      <th></th>\n",
       "      <th>rowid</th>\n",
       "      <th>radius</th>\n",
       "      <th>height</th>\n",
       "      <th>volume</th>\n",
       "      <th>rh</th>\n",
       "      <th>r2h</th>\n",
       "      <th>rh2</th>\n",
       "      <th>r3</th>\n",
       "      <th>h3</th>\n",
       "      <th>PredictedVolume</th>\n",
       "    </tr>\n",
       "  </thead>\n",
       "  <tbody>\n",
       "    <tr>\n",
       "      <th>132</th>\n",
       "      <td>133</td>\n",
       "      <td>16.5</td>\n",
       "      <td>0.5</td>\n",
       "      <td>427.649300</td>\n",
       "      <td>8.25</td>\n",
       "      <td>136.125</td>\n",
       "      <td>4.125</td>\n",
       "      <td>4492.125</td>\n",
       "      <td>0.125</td>\n",
       "      <td>0.910748</td>\n",
       "    </tr>\n",
       "    <tr>\n",
       "      <th>142</th>\n",
       "      <td>143</td>\n",
       "      <td>21.5</td>\n",
       "      <td>0.5</td>\n",
       "      <td>726.100602</td>\n",
       "      <td>10.75</td>\n",
       "      <td>231.125</td>\n",
       "      <td>5.375</td>\n",
       "      <td>9938.375</td>\n",
       "      <td>0.125</td>\n",
       "      <td>0.910748</td>\n",
       "    </tr>\n",
       "    <tr>\n",
       "      <th>158</th>\n",
       "      <td>159</td>\n",
       "      <td>29.5</td>\n",
       "      <td>0.5</td>\n",
       "      <td>1366.985503</td>\n",
       "      <td>14.75</td>\n",
       "      <td>435.125</td>\n",
       "      <td>7.375</td>\n",
       "      <td>25672.375</td>\n",
       "      <td>0.125</td>\n",
       "      <td>0.910748</td>\n",
       "    </tr>\n",
       "    <tr>\n",
       "      <th>217</th>\n",
       "      <td>218</td>\n",
       "      <td>9.0</td>\n",
       "      <td>1.0</td>\n",
       "      <td>254.469005</td>\n",
       "      <td>9.00</td>\n",
       "      <td>81.000</td>\n",
       "      <td>9.000</td>\n",
       "      <td>729.000</td>\n",
       "      <td>1.000</td>\n",
       "      <td>0.910748</td>\n",
       "    </tr>\n",
       "    <tr>\n",
       "      <th>233</th>\n",
       "      <td>234</td>\n",
       "      <td>17.0</td>\n",
       "      <td>1.0</td>\n",
       "      <td>907.920277</td>\n",
       "      <td>17.00</td>\n",
       "      <td>289.000</td>\n",
       "      <td>17.000</td>\n",
       "      <td>4913.000</td>\n",
       "      <td>1.000</td>\n",
       "      <td>0.910748</td>\n",
       "    </tr>\n",
       "  </tbody>\n",
       "</table>\n",
       "</div>"
      ],
      "text/plain": [
       "     rowid  radius  height       volume     rh      r2h     rh2         r3  \\\n",
       "132    133    16.5     0.5   427.649300   8.25  136.125   4.125   4492.125   \n",
       "142    143    21.5     0.5   726.100602  10.75  231.125   5.375   9938.375   \n",
       "158    159    29.5     0.5  1366.985503  14.75  435.125   7.375  25672.375   \n",
       "217    218     9.0     1.0   254.469005   9.00   81.000   9.000    729.000   \n",
       "233    234    17.0     1.0   907.920277  17.00  289.000  17.000   4913.000   \n",
       "\n",
       "        h3  PredictedVolume  \n",
       "132  0.125         0.910748  \n",
       "142  0.125         0.910748  \n",
       "158  0.125         0.910748  \n",
       "217  1.000         0.910748  \n",
       "233  1.000         0.910748  "
      ]
     },
     "execution_count": 71,
     "metadata": {},
     "output_type": "execute_result"
    }
   ],
   "source": [
    "df_test.head()\n",
    "predictions = model.predict(input_fn =tf_input_test)\n",
    "t=[]\n",
    "for items in predictions:\n",
    "    t.append(items['predictions'])\n",
    "    \n",
    "\n",
    "df_test['PredictedVolume']=np.asarray(t )\n",
    "df_test.head()"
   ]
  },
  {
   "cell_type": "code",
   "execution_count": null,
   "metadata": {},
   "outputs": [],
   "source": []
  }
 ],
 "metadata": {
  "kernelspec": {
   "display_name": "Python 3",
   "language": "python",
   "name": "python3"
  },
  "language_info": {
   "codemirror_mode": {
    "name": "ipython",
    "version": 3
   },
   "file_extension": ".py",
   "mimetype": "text/x-python",
   "name": "python",
   "nbconvert_exporter": "python",
   "pygments_lexer": "ipython3",
   "version": "3.7.3"
  }
 },
 "nbformat": 4,
 "nbformat_minor": 1
}
