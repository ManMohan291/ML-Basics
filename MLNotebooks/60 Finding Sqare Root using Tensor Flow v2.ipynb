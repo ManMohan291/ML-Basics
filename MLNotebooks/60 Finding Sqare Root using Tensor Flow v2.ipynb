{
 "cells": [
  {
   "cell_type": "code",
   "execution_count": 3,
   "metadata": {},
   "outputs": [],
   "source": [
    "import tensorflow as tf\n",
    "import numpy as np\n",
    "import matplotlib.pyplot as plt\n",
    "#tf.enable_eager_execution()"
   ]
  },
  {
   "cell_type": "code",
   "execution_count": 76,
   "metadata": {},
   "outputs": [
    {
     "data": {
      "image/png": "[encoded data removed]",
      "text/plain": [
       "<Figure size 432x288 with 1 Axes>"
      ]
     },
     "metadata": {
      "needs_background": "light"
     },
     "output_type": "display_data"
    }
   ],
   "source": [
    "NthRoot=2\n",
    "Number=81\n",
    "learningRate=0.005\n",
    "maxIter=10000\n",
    "\n",
    "\n",
    "#############################\n",
    "X=0\n",
    "Y=Number\n",
    "\n",
    "tf.reset_default_graph() \n",
    "costs = []  # To keep track of the cost\n",
    "\n",
    "# Initialize parameters\n",
    "W = tf.get_variable(\"W\",[])\n",
    "\n",
    "# Forward propagation\n",
    "Z = tf.math.pow(W, NthRoot)  \n",
    "\n",
    "# Cost function\n",
    "cost = tf.reduce_mean(tf.math.pow((Z-Y),NthRoot))\n",
    "\n",
    "# Backpropagation\n",
    "op =  tf.train.AdamOptimizer(learning_rate=learningRate).minimize(cost)\n",
    "\n",
    "with tf.Session() as sess:\n",
    "    sess.run(tf.global_variables_initializer()) # Initialize all the variables\n",
    "    for i in range(maxIter):\n",
    "        sess.run(op)            \n",
    "        c= sess.run(cost)                \n",
    "        costs.append(c)\n",
    "    sqrt = sess.run(W)  \n",
    "\n",
    "SQRTValue=np.round(np.squeeze(sqrt),2)\n",
    "\n",
    "plt.plot(np.squeeze(costs))\n",
    "plt.ylabel('cost')\n",
    "plt.xlabel('iterations')\n",
    "plt.title(\"Nth(\"+str(NthRoot) +\") Root of (\"+str(Number)+\")  =\" + str(SQRTValue))\n",
    "plt.show()\n",
    "   \n",
    "    "
   ]
  },
  {
   "cell_type": "code",
   "execution_count": null,
   "metadata": {},
   "outputs": [],
   "source": []
  },
  {
   "cell_type": "code",
   "execution_count": null,
   "metadata": {},
   "outputs": [],
   "source": []
  }
 ],
 "metadata": {
  "kernelspec": {
   "display_name": "Python 3",
   "language": "python",
   "name": "python3"
  },
  "language_info": {
   "codemirror_mode": {
    "name": "ipython",
    "version": 3
   },
   "file_extension": ".py",
   "mimetype": "text/x-python",
   "name": "python",
   "nbconvert_exporter": "python",
   "pygments_lexer": "ipython3",
   "version": "3.7.1"
  }
 },
 "nbformat": 4,
 "nbformat_minor": 1
}
